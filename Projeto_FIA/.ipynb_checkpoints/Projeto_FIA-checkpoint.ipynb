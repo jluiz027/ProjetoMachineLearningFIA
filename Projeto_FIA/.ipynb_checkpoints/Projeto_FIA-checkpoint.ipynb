{
 "cells": [
  {
   "cell_type": "code",
   "execution_count": 1,
   "metadata": {},
   "outputs": [],
   "source": [
    "import numpy as np"
   ]
  },
  {
   "cell_type": "code",
   "execution_count": 2,
   "metadata": {},
   "outputs": [],
   "source": [
    "import pandas as pd"
   ]
  },
  {
   "cell_type": "code",
   "execution_count": 3,
   "metadata": {},
   "outputs": [],
   "source": [
    "import matplotlib.pyplot as plt\n",
    "%matplotlib inline"
   ]
  },
  {
   "cell_type": "code",
   "execution_count": 4,
   "metadata": {},
   "outputs": [],
   "source": [
    "df = pd.read_csv(\"data_projeto_ENEM.csv\", sep=\",\")"
   ]
  },
  {
   "cell_type": "code",
   "execution_count": 5,
   "metadata": {},
   "outputs": [
    {
     "data": {
      "text/html": [
       "<div>\n",
       "<style scoped>\n",
       "    .dataframe tbody tr th:only-of-type {\n",
       "        vertical-align: middle;\n",
       "    }\n",
       "\n",
       "    .dataframe tbody tr th {\n",
       "        vertical-align: top;\n",
       "    }\n",
       "\n",
       "    .dataframe thead th {\n",
       "        text-align: right;\n",
       "    }\n",
       "</style>\n",
       "<table border=\"1\" class=\"dataframe\">\n",
       "  <thead>\n",
       "    <tr style=\"text-align: right;\">\n",
       "      <th></th>\n",
       "      <th>NU_INSCRICAO</th>\n",
       "      <th>NU_ANO</th>\n",
       "      <th>CO_MUNICIPIO_RESIDENCIA</th>\n",
       "      <th>NO_MUNICIPIO_RESIDENCIA</th>\n",
       "      <th>CO_UF_RESIDENCIA</th>\n",
       "      <th>SG_UF_RESIDENCIA</th>\n",
       "      <th>NU_IDADE</th>\n",
       "      <th>TP_SEXO</th>\n",
       "      <th>TP_ESTADO_CIVIL</th>\n",
       "      <th>TP_COR_RACA</th>\n",
       "      <th>...</th>\n",
       "      <th>Q018</th>\n",
       "      <th>Q019</th>\n",
       "      <th>Q020</th>\n",
       "      <th>Q021</th>\n",
       "      <th>Q022</th>\n",
       "      <th>Q023</th>\n",
       "      <th>Q024</th>\n",
       "      <th>Q025</th>\n",
       "      <th>Q026</th>\n",
       "      <th>Q027</th>\n",
       "    </tr>\n",
       "  </thead>\n",
       "  <tbody>\n",
       "    <tr>\n",
       "      <td>0</td>\n",
       "      <td>170005778262</td>\n",
       "      <td>2017</td>\n",
       "      <td>2108900</td>\n",
       "      <td>Poção de Pedras</td>\n",
       "      <td>21</td>\n",
       "      <td>MA</td>\n",
       "      <td>20.0</td>\n",
       "      <td>M</td>\n",
       "      <td>0.0</td>\n",
       "      <td>3</td>\n",
       "      <td>...</td>\n",
       "      <td>A</td>\n",
       "      <td>A</td>\n",
       "      <td>A</td>\n",
       "      <td>A</td>\n",
       "      <td>A</td>\n",
       "      <td>A</td>\n",
       "      <td>A</td>\n",
       "      <td>A</td>\n",
       "      <td>A</td>\n",
       "      <td>A</td>\n",
       "    </tr>\n",
       "    <tr>\n",
       "      <td>1</td>\n",
       "      <td>170003822638</td>\n",
       "      <td>2017</td>\n",
       "      <td>2604007</td>\n",
       "      <td>Carpina</td>\n",
       "      <td>26</td>\n",
       "      <td>PE</td>\n",
       "      <td>17.0</td>\n",
       "      <td>M</td>\n",
       "      <td>0.0</td>\n",
       "      <td>1</td>\n",
       "      <td>...</td>\n",
       "      <td>A</td>\n",
       "      <td>B</td>\n",
       "      <td>B</td>\n",
       "      <td>A</td>\n",
       "      <td>B</td>\n",
       "      <td>A</td>\n",
       "      <td>A</td>\n",
       "      <td>B</td>\n",
       "      <td>B</td>\n",
       "      <td>A</td>\n",
       "    </tr>\n",
       "    <tr>\n",
       "      <td>2</td>\n",
       "      <td>170005713640</td>\n",
       "      <td>2017</td>\n",
       "      <td>2512762</td>\n",
       "      <td>Riachão do Poço</td>\n",
       "      <td>25</td>\n",
       "      <td>PB</td>\n",
       "      <td>17.0</td>\n",
       "      <td>F</td>\n",
       "      <td>0.0</td>\n",
       "      <td>3</td>\n",
       "      <td>...</td>\n",
       "      <td>A</td>\n",
       "      <td>B</td>\n",
       "      <td>A</td>\n",
       "      <td>A</td>\n",
       "      <td>D</td>\n",
       "      <td>A</td>\n",
       "      <td>A</td>\n",
       "      <td>B</td>\n",
       "      <td>B</td>\n",
       "      <td>A</td>\n",
       "    </tr>\n",
       "    <tr>\n",
       "      <td>3</td>\n",
       "      <td>170000323750</td>\n",
       "      <td>2017</td>\n",
       "      <td>4106902</td>\n",
       "      <td>Curitiba</td>\n",
       "      <td>41</td>\n",
       "      <td>PR</td>\n",
       "      <td>22.0</td>\n",
       "      <td>M</td>\n",
       "      <td>0.0</td>\n",
       "      <td>1</td>\n",
       "      <td>...</td>\n",
       "      <td>A</td>\n",
       "      <td>B</td>\n",
       "      <td>B</td>\n",
       "      <td>B</td>\n",
       "      <td>C</td>\n",
       "      <td>B</td>\n",
       "      <td>B</td>\n",
       "      <td>B</td>\n",
       "      <td>A</td>\n",
       "      <td>A</td>\n",
       "    </tr>\n",
       "    <tr>\n",
       "      <td>4</td>\n",
       "      <td>170000783745</td>\n",
       "      <td>2017</td>\n",
       "      <td>3303906</td>\n",
       "      <td>Petrópolis</td>\n",
       "      <td>33</td>\n",
       "      <td>RJ</td>\n",
       "      <td>18.0</td>\n",
       "      <td>F</td>\n",
       "      <td>0.0</td>\n",
       "      <td>1</td>\n",
       "      <td>...</td>\n",
       "      <td>A</td>\n",
       "      <td>E</td>\n",
       "      <td>B</td>\n",
       "      <td>A</td>\n",
       "      <td>E</td>\n",
       "      <td>A</td>\n",
       "      <td>B</td>\n",
       "      <td>A</td>\n",
       "      <td>B</td>\n",
       "      <td>C</td>\n",
       "    </tr>\n",
       "  </tbody>\n",
       "</table>\n",
       "<p>5 rows × 113 columns</p>\n",
       "</div>"
      ],
      "text/plain": [
       "   NU_INSCRICAO  NU_ANO  CO_MUNICIPIO_RESIDENCIA NO_MUNICIPIO_RESIDENCIA  \\\n",
       "0  170005778262    2017                  2108900         Poção de Pedras   \n",
       "1  170003822638    2017                  2604007                 Carpina   \n",
       "2  170005713640    2017                  2512762         Riachão do Poço   \n",
       "3  170000323750    2017                  4106902                Curitiba   \n",
       "4  170000783745    2017                  3303906              Petrópolis   \n",
       "\n",
       "   CO_UF_RESIDENCIA SG_UF_RESIDENCIA  NU_IDADE TP_SEXO  TP_ESTADO_CIVIL  \\\n",
       "0                21               MA      20.0       M              0.0   \n",
       "1                26               PE      17.0       M              0.0   \n",
       "2                25               PB      17.0       F              0.0   \n",
       "3                41               PR      22.0       M              0.0   \n",
       "4                33               RJ      18.0       F              0.0   \n",
       "\n",
       "   TP_COR_RACA  ...  Q018  Q019 Q020  Q021 Q022  Q023  Q024  Q025  Q026  Q027  \n",
       "0            3  ...     A     A    A     A    A     A     A     A     A     A  \n",
       "1            1  ...     A     B    B     A    B     A     A     B     B     A  \n",
       "2            3  ...     A     B    A     A    D     A     A     B     B     A  \n",
       "3            1  ...     A     B    B     B    C     B     B     B     A     A  \n",
       "4            1  ...     A     E    B     A    E     A     B     A     B     C  \n",
       "\n",
       "[5 rows x 113 columns]"
      ]
     },
     "execution_count": 5,
     "metadata": {},
     "output_type": "execute_result"
    }
   ],
   "source": [
    "df.head()"
   ]
  },
  {
   "cell_type": "code",
   "execution_count": 8,
   "metadata": {},
   "outputs": [
    {
     "data": {
      "text/plain": [
       "NU_INSCRICAO               0\n",
       "NU_ANO                     0\n",
       "CO_MUNICIPIO_RESIDENCIA    0\n",
       "NO_MUNICIPIO_RESIDENCIA    0\n",
       "CO_UF_RESIDENCIA           0\n",
       "                          ..\n",
       "Q023                       0\n",
       "Q024                       0\n",
       "Q025                       0\n",
       "Q026                       0\n",
       "Q027                       0\n",
       "Length: 113, dtype: int64"
      ]
     },
     "execution_count": 8,
     "metadata": {},
     "output_type": "execute_result"
    }
   ],
   "source": [
    "(df.isnull()).sum()"
   ]
  },
  {
   "cell_type": "code",
   "execution_count": 9,
   "metadata": {},
   "outputs": [
    {
     "data": {
      "image/png": "[encoded data removed]",
      "text/plain": [
       "<Figure size 432x288 with 1 Axes>"
      ]
     },
     "metadata": {
      "needs_background": "light"
     },
     "output_type": "display_data"
    },
    {
     "data": {
      "image/png": "[encoded data removed]",
      "text/plain": [
       "<Figure size 432x288 with 1 Axes>"
      ]
     },
     "metadata": {
      "needs_background": "light"
     },
     "output_type": "display_data"
    },
    {
     "data": {
      "image/png": "[encoded data removed]",
      "text/plain": [
       "<Figure size 432x288 with 1 Axes>"
      ]
     },
     "metadata": {
      "needs_background": "light"
     },
     "output_type": "display_data"
    },
    {
     "data": {
      "image/png": "[encoded data removed]",
      "text/plain": [
       "<Figure size 432x288 with 1 Axes>"
      ]
     },
     "metadata": {
      "needs_background": "light"
     },
     "output_type": "display_data"
    }
   ],
   "source": [
    "plt.hist(df['NU_NOTA_CN'], bins=50, label='NU_NOTA_CN')\n",
    "plt.title('NU_NOTA_CN')\n",
    "plt.show()\n",
    "plt.hist(df['NU_NOTA_CH'], bins=50, label='NU_NOTA_CH')\n",
    "plt.title('NU_NOTA_CH')\n",
    "plt.show()\n",
    "plt.hist(df['NU_NOTA_LC'], bins=50, label='NU_NOTA_LC')\n",
    "plt.title('NU_NOTA_LC')\n",
    "plt.show()\n",
    "plt.hist(df['NU_NOTA_MT'], bins=50, label='NU_NOTA_MT')\n",
    "plt.title('NU_NOTA_MT')\n",
    "plt.show()"
   ]
  },
  {
   "cell_type": "code",
   "execution_count": 10,
   "metadata": {},
   "outputs": [
    {
     "data": {
      "text/plain": [
       "NU_INSCRICAO               0\n",
       "NU_ANO                     0\n",
       "CO_MUNICIPIO_RESIDENCIA    0\n",
       "NO_MUNICIPIO_RESIDENCIA    0\n",
       "CO_UF_RESIDENCIA           0\n",
       "                          ..\n",
       "Q023                       0\n",
       "Q024                       0\n",
       "Q025                       0\n",
       "Q026                       0\n",
       "Q027                       0\n",
       "Length: 113, dtype: int64"
      ]
     },
     "execution_count": 10,
     "metadata": {},
     "output_type": "execute_result"
    }
   ],
   "source": [
    "(df.isnull()).sum()"
   ]
  },
  {
   "cell_type": "code",
   "execution_count": 43,
   "metadata": {
    "scrolled": false
   },
   "outputs": [
    {
     "name": "stdout",
     "output_type": "stream",
     "text": [
      "NU_INSCRICAO 0\n",
      "NU_ANO 0\n",
      "CO_MUNICIPIO_RESIDENCIA 0\n",
      "NO_MUNICIPIO_RESIDENCIA 0\n",
      "CO_UF_RESIDENCIA 0\n",
      "SG_UF_RESIDENCIA 0\n",
      "NU_IDADE 0\n",
      "TP_SEXO 0\n",
      "TP_ESTADO_CIVIL 0\n",
      "TP_COR_RACA 0\n",
      "TP_NACIONALIDADE 0\n",
      "CO_MUNICIPIO_NASCIMENTO 0\n",
      "NO_MUNICIPIO_NASCIMENTO 5767\n",
      "CO_UF_NASCIMENTO 5767\n",
      "SG_UF_NASCIMENTO 5767\n",
      "TP_ST_CONCLUSAO 0\n",
      "TP_ANO_CONCLUIU 0\n",
      "TP_ESCOLA 0\n",
      "TP_ENSINO 0\n",
      "IN_TREINEIRO 0\n",
      "CO_ESCOLA 0\n",
      "CO_MUNICIPIO_ESC 0\n",
      "NO_MUNICIPIO_ESC 121444\n",
      "CO_UF_ESC 121444\n",
      "SG_UF_ESC 121444\n",
      "TP_DEPENDENCIA_ADM_ESC 121444\n",
      "TP_LOCALIZACAO_ESC 121444\n",
      "TP_SIT_FUNC_ESC 121642\n",
      "IN_BAIXA_VISAO 0\n",
      "IN_CEGUEIRA 0\n",
      "IN_SURDEZ 0\n",
      "IN_DEFICIENCIA_AUDITIVA 0\n",
      "IN_SURDO_CEGUEIRA 0\n",
      "IN_DEFICIENCIA_FISICA 0\n",
      "IN_DEFICIENCIA_MENTAL 0\n",
      "IN_DEFICIT_ATENCAO 0\n",
      "IN_DISLEXIA 0\n",
      "IN_DISCALCULIA 0\n",
      "IN_AUTISMO 0\n",
      "IN_VISAO_MONOCULAR 0\n",
      "IN_OUTRA_DEF 0\n",
      "IN_GESTANTE 0\n",
      "IN_LACTANTE 0\n",
      "IN_IDOSO 0\n",
      "IN_ESTUDA_CLASSE_HOSPITALAR 0\n",
      "IN_SEM_RECURSO 0\n",
      "IN_BRAILLE 0\n",
      "IN_AMPLIADA_24 0\n",
      "IN_AMPLIADA_18 0\n",
      "IN_LEDOR 0\n",
      "IN_ACESSO 0\n",
      "IN_TRANSCRICAO 0\n",
      "IN_LIBRAS 0\n",
      "IN_LEITURA_LABIAL 0\n",
      "IN_MESA_CADEIRA_RODAS 0\n",
      "IN_MESA_CADEIRA_SEPARADA 0\n",
      "IN_APOIO_PERNA 0\n",
      "IN_GUIA_INTERPRETE 0\n",
      "IN_COMPUTADOR 0\n",
      "IN_CADEIRA_ESPECIAL 0\n",
      "IN_CADEIRA_CANHOTO 0\n",
      "IN_CADEIRA_ACOLCHOADA 0\n",
      "IN_PROVA_DEITADO 0\n",
      "IN_MOBILIARIO_OBESO 0\n",
      "IN_LAMINA_OVERLAY 0\n",
      "IN_PROTETOR_AURICULAR 0\n",
      "IN_MEDIDOR_GLICOSE 0\n",
      "IN_MAQUINA_BRAILE 0\n",
      "IN_SOROBAN 0\n",
      "IN_MARCA_PASSO 0\n",
      "IN_SONDA 0\n",
      "IN_MEDICAMENTOS 0\n",
      "IN_SALA_INDIVIDUAL 0\n",
      "IN_SALA_ESPECIAL 0\n",
      "IN_SALA_ACOMPANHANTE 0\n",
      "IN_MOBILIARIO_ESPECIFICO 0\n",
      "IN_MATERIAL_ESPECIFICO 0\n",
      "IN_NOME_SOCIAL 0\n",
      "CO_MUNICIPIO_PROVA 0\n",
      "NO_MUNICIPIO_PROVA 0\n",
      "CO_UF_PROVA 0\n",
      "SG_UF_PROVA 0\n",
      "NU_NOTA_CN 0\n",
      "NU_NOTA_CH 0\n",
      "NU_NOTA_LC 0\n",
      "NU_NOTA_MT 0\n",
      "Q001 0\n",
      "Q002 0\n",
      "Q003 0\n",
      "Q004 0\n",
      "Q005 0\n",
      "Q006 0\n",
      "Q007 0\n",
      "Q008 0\n",
      "Q009 0\n",
      "Q010 0\n",
      "Q011 0\n",
      "Q012 0\n",
      "Q013 0\n",
      "Q014 0\n",
      "Q015 0\n",
      "Q016 0\n",
      "Q017 0\n",
      "Q018 0\n",
      "Q019 0\n",
      "Q020 0\n",
      "Q021 0\n",
      "Q022 0\n",
      "Q023 0\n",
      "Q024 0\n",
      "Q025 0\n",
      "Q026 0\n",
      "Q027 0\n"
     ]
    }
   ],
   "source": [
    "#for f in (df.isnull()).sum():\n",
    "#    print(type(f))\n",
    "for c in df.columns:\n",
    "    print(c, df[c].isnull().sum())"
   ]
  },
  {
   "cell_type": "code",
   "execution_count": null,
   "metadata": {},
   "outputs": [],
   "source": [
    "df[['CO_MUNICIPIO_RESIDENCIA']] = pd.Series(df['CO_MUNICIPIO_RESIDENCIA'], dtype=\"category\")"
   ]
  },
  {
   "cell_type": "code",
   "execution_count": null,
   "metadata": {},
   "outputs": [],
   "source": [
    "df[['CO_UF_RESIDENCIA']] = pd.Series(df['CO_MUNICIPIO_RESIDENCIA'], dtype=\"category\")"
   ]
  },
  {
   "cell_type": "code",
   "execution_count": 46,
   "metadata": {},
   "outputs": [],
   "source": [
    "#Resolvendo missing da Idade\n",
    "mediana_NU_IDADE = df['NU_IDADE'].median()\n",
    "mediana_NU_IDADE\n",
    "df[\"NU_IDADE\"].fillna(mediana_NU_IDADE, inplace = True)\n",
    "df[['NU_IDADE']] = pd.Series(df['NU_IDADE'], dtype=\"category\")"
   ]
  },
  {
   "cell_type": "code",
   "execution_count": null,
   "metadata": {},
   "outputs": [],
   "source": [
    "df[['TP_SEXO']] = pd.Series(df['TP_SEXO'], dtype=\"category\")"
   ]
  },
  {
   "cell_type": "code",
   "execution_count": null,
   "metadata": {},
   "outputs": [],
   "source": [
    "df[['TP_ESTADO_CIVIL']] = pd.Series(df['TP_ESTADO_CIVIL'], dtype=\"category\")"
   ]
  },
  {
   "cell_type": "code",
   "execution_count": null,
   "metadata": {},
   "outputs": [],
   "source": [
    "df[['TP_NACIONALIDADE']] = pd.Series(df['TP_NACIONALIDADE'], dtype=\"category\")"
   ]
  },
  {
   "cell_type": "code",
   "execution_count": null,
   "metadata": {},
   "outputs": [],
   "source": [
    "df[['CO_MUNICIPIO_NASCIMENTO']] = pd.Series(df['CO_MUNICIPIO_NASCIMENTO'], dtype=\"category\")"
   ]
  },
  {
   "cell_type": "code",
   "execution_count": null,
   "metadata": {},
   "outputs": [],
   "source": [
    "df[['CO_UF_NASCIMENTO']] = pd.Series(df['CO_UF_NASCIMENTO'], dtype=\"category\")"
   ]
  },
  {
   "cell_type": "code",
   "execution_count": null,
   "metadata": {},
   "outputs": [],
   "source": [
    "df[['TP_ESTADO_CIVIL']] = pd.Series(df['TP_ESTADO_CIVIL'], dtype=\"category\")"
   ]
  },
  {
   "cell_type": "code",
   "execution_count": null,
   "metadata": {},
   "outputs": [],
   "source": [
    "df[['TP_ESTADO_CIVIL']] = pd.Series(df['TP_ESTADO_CIVIL'], dtype=\"category\")"
   ]
  },
  {
   "cell_type": "code",
   "execution_count": 42,
   "metadata": {},
   "outputs": [],
   "source": [
    "#Resolvendo missing de TP_ESTADO_CIVIL\n",
    "df[\"TP_ESTADO_CIVIL\"].fillna('MISSING', inplace = True)\n",
    "df['TP_ESTADO_CIVIL'] = pd.Series(df['TP_ESTADO_CIVIL'], dtype=\"category\")"
   ]
  },
  {
   "cell_type": "code",
   "execution_count": 32,
   "metadata": {},
   "outputs": [],
   "source": [
    "#Resolvendo missing de CO_MUNICIPIO_NASCIMENTO \n",
    "df[\"CO_MUNICIPIO_NASCIMENTO\"].fillna('MISSING', inplace = True)"
   ]
  },
  {
   "cell_type": "code",
   "execution_count": null,
   "metadata": {},
   "outputs": [],
   "source": [
    "#Resolvendo missing de CO_UF_NASCIMENTO \n",
    "df[\"CO_UF_NASCIMENTO\"].fillna('MISSING', inplace = True)"
   ]
  },
  {
   "cell_type": "code",
   "execution_count": 34,
   "metadata": {},
   "outputs": [],
   "source": [
    "#Resolvendo missing de TP_ENSINO \n",
    "df[\"TP_ENSINO\"].fillna('MISSING', inplace = True)"
   ]
  },
  {
   "cell_type": "code",
   "execution_count": 38,
   "metadata": {},
   "outputs": [],
   "source": [
    "#Resolvendo missing de CO_ESCOLA  \n",
    "df[\"CO_ESCOLA\"].fillna('MISSING', inplace = True)"
   ]
  },
  {
   "cell_type": "code",
   "execution_count": 40,
   "metadata": {},
   "outputs": [],
   "source": [
    "#Resolvendo missing de CO_ESCOLA  \n",
    "df[\"CO_MUNICIPIO_ESC\"].fillna('MISSING', inplace = True)"
   ]
  },
  {
   "cell_type": "code",
   "execution_count": 36,
   "metadata": {
    "scrolled": true
   },
   "outputs": [
    {
     "data": {
      "text/html": [
       "<div>\n",
       "<style scoped>\n",
       "    .dataframe tbody tr th:only-of-type {\n",
       "        vertical-align: middle;\n",
       "    }\n",
       "\n",
       "    .dataframe tbody tr th {\n",
       "        vertical-align: top;\n",
       "    }\n",
       "\n",
       "    .dataframe thead th {\n",
       "        text-align: right;\n",
       "    }\n",
       "</style>\n",
       "<table border=\"1\" class=\"dataframe\">\n",
       "  <thead>\n",
       "    <tr style=\"text-align: right;\">\n",
       "      <th></th>\n",
       "      <th>CO_MUNICIPIO_RESIDENCIA</th>\n",
       "      <th>SG_UF_RESIDENCIA</th>\n",
       "      <th>NU_IDADE</th>\n",
       "      <th>TP_SEXO</th>\n",
       "      <th>TP_ESTADO_CIVIL</th>\n",
       "      <th>TP_COR_RACA</th>\n",
       "      <th>TP_NACIONALIDADE</th>\n",
       "      <th>CO_MUNICIPIO_NASCIMENTO</th>\n",
       "      <th>TP_ANO_CONCLUIU</th>\n",
       "      <th>TP_ESCOLA</th>\n",
       "      <th>TP_ENSINO</th>\n",
       "    </tr>\n",
       "  </thead>\n",
       "  <tbody>\n",
       "    <tr>\n",
       "      <td>0</td>\n",
       "      <td>2108900</td>\n",
       "      <td>MA</td>\n",
       "      <td>20.0</td>\n",
       "      <td>M</td>\n",
       "      <td>0</td>\n",
       "      <td>3</td>\n",
       "      <td>1</td>\n",
       "      <td>2.1089e+06</td>\n",
       "      <td>1</td>\n",
       "      <td>1</td>\n",
       "      <td>MISSING</td>\n",
       "    </tr>\n",
       "    <tr>\n",
       "      <td>1</td>\n",
       "      <td>2604007</td>\n",
       "      <td>PE</td>\n",
       "      <td>17.0</td>\n",
       "      <td>M</td>\n",
       "      <td>0</td>\n",
       "      <td>1</td>\n",
       "      <td>1</td>\n",
       "      <td>2.61061e+06</td>\n",
       "      <td>0</td>\n",
       "      <td>2</td>\n",
       "      <td>1</td>\n",
       "    </tr>\n",
       "    <tr>\n",
       "      <td>2</td>\n",
       "      <td>2512762</td>\n",
       "      <td>PB</td>\n",
       "      <td>17.0</td>\n",
       "      <td>F</td>\n",
       "      <td>0</td>\n",
       "      <td>3</td>\n",
       "      <td>1</td>\n",
       "      <td>2.5137e+06</td>\n",
       "      <td>0</td>\n",
       "      <td>2</td>\n",
       "      <td>1</td>\n",
       "    </tr>\n",
       "    <tr>\n",
       "      <td>3</td>\n",
       "      <td>4106902</td>\n",
       "      <td>PR</td>\n",
       "      <td>22.0</td>\n",
       "      <td>M</td>\n",
       "      <td>0</td>\n",
       "      <td>1</td>\n",
       "      <td>1</td>\n",
       "      <td>4.1069e+06</td>\n",
       "      <td>5</td>\n",
       "      <td>1</td>\n",
       "      <td>MISSING</td>\n",
       "    </tr>\n",
       "    <tr>\n",
       "      <td>4</td>\n",
       "      <td>3303906</td>\n",
       "      <td>RJ</td>\n",
       "      <td>18.0</td>\n",
       "      <td>F</td>\n",
       "      <td>0</td>\n",
       "      <td>1</td>\n",
       "      <td>1</td>\n",
       "      <td>3.30391e+06</td>\n",
       "      <td>0</td>\n",
       "      <td>3</td>\n",
       "      <td>1</td>\n",
       "    </tr>\n",
       "  </tbody>\n",
       "</table>\n",
       "</div>"
      ],
      "text/plain": [
       "  CO_MUNICIPIO_RESIDENCIA SG_UF_RESIDENCIA  NU_IDADE TP_SEXO TP_ESTADO_CIVIL  \\\n",
       "0                 2108900               MA      20.0       M               0   \n",
       "1                 2604007               PE      17.0       M               0   \n",
       "2                 2512762               PB      17.0       F               0   \n",
       "3                 4106902               PR      22.0       M               0   \n",
       "4                 3303906               RJ      18.0       F               0   \n",
       "\n",
       "   TP_COR_RACA  TP_NACIONALIDADE CO_MUNICIPIO_NASCIMENTO  TP_ANO_CONCLUIU  \\\n",
       "0            3                 1              2.1089e+06                1   \n",
       "1            1                 1             2.61061e+06                0   \n",
       "2            3                 1              2.5137e+06                0   \n",
       "3            1                 1              4.1069e+06                5   \n",
       "4            1                 1             3.30391e+06                0   \n",
       "\n",
       "   TP_ESCOLA TP_ENSINO  \n",
       "0          1   MISSING  \n",
       "1          2         1  \n",
       "2          2         1  \n",
       "3          1   MISSING  \n",
       "4          3         1  "
      ]
     },
     "execution_count": 36,
     "metadata": {},
     "output_type": "execute_result"
    }
   ],
   "source": [
    "#df1 = df.iloc[1:20,['CO_MUNICIPIO_RESIDENCIA']].copy()\n",
    "df1 = df[['CO_MUNICIPIO_RESIDENCIA', 'SG_UF_RESIDENCIA', 'NU_IDADE', 'TP_SEXO', 'TP_ESTADO_CIVIL', \n",
    "          'TP_COR_RACA', 'TP_NACIONALIDADE', 'CO_MUNICIPIO_NASCIMENTO', 'TP_ANO_CONCLUIU', 'TP_ESCOLA',\n",
    "         'TP_ENSINO', 'IN_TREINEIRO', 'CO_ESCOLA']]\n",
    "df1.head()"
   ]
  },
  {
   "cell_type": "code",
   "execution_count": 15,
   "metadata": {},
   "outputs": [],
   "source": [
    "df1 = df.iloc[1:20,0:].copy()"
   ]
  },
  {
   "cell_type": "code",
   "execution_count": 16,
   "metadata": {},
   "outputs": [],
   "source": [
    "df_filtrado = df.iloc[1:20,0:].copy()"
   ]
  },
  {
   "cell_type": "code",
   "execution_count": 21,
   "metadata": {},
   "outputs": [],
   "source": [
    "df['CO_MUNICIPIO_RESIDENCIA'] = pd.Series(df['CO_MUNICIPIO_RESIDENCIA'], dtype=\"category\")"
   ]
  },
  {
   "cell_type": "code",
   "execution_count": 22,
   "metadata": {},
   "outputs": [
    {
     "data": {
      "text/plain": [
       "0         2108900\n",
       "1         2604007\n",
       "2         2512762\n",
       "3         4106902\n",
       "4         3303906\n",
       "           ...   \n",
       "176885    2908200\n",
       "176886    4311403\n",
       "176887    2408003\n",
       "176888    2607901\n",
       "176889    3113404\n",
       "Name: CO_MUNICIPIO_RESIDENCIA, Length: 176890, dtype: category\n",
       "Categories (5309, int64): [1100015, 1100023, 1100031, 1100049, ..., 5222005, 5222203, 5222302, 5300108]"
      ]
     },
     "execution_count": 22,
     "metadata": {},
     "output_type": "execute_result"
    }
   ],
   "source": [
    "df['CO_MUNICIPIO_RESIDENCIA']"
   ]
  },
  {
   "cell_type": "code",
   "execution_count": 20,
   "metadata": {},
   "outputs": [
    {
     "data": {
      "text/plain": [
       "0         2108900\n",
       "1         2604007\n",
       "2         2512762\n",
       "3         4106902\n",
       "4         3303906\n",
       "           ...   \n",
       "176885    2908200\n",
       "176886    4311403\n",
       "176887    2408003\n",
       "176888    2607901\n",
       "176889    3113404\n",
       "Name: CO_MUNICIPIO_RESIDENCIA, Length: 176890, dtype: category\n",
       "Categories (5309, int64): [1100015, 1100023, 1100031, 1100049, ..., 5222005, 5222203, 5222302, 5300108]"
      ]
     },
     "execution_count": 20,
     "metadata": {},
     "output_type": "execute_result"
    }
   ],
   "source": [
    "pd.Series(df['CO_MUNICIPIO_RESIDENCIA'], dtype=\"category\")"
   ]
  },
  {
   "cell_type": "code",
   "execution_count": null,
   "metadata": {},
   "outputs": [],
   "source": []
  }
 ],
 "metadata": {
  "kernelspec": {
   "display_name": "Python 3",
   "language": "python",
   "name": "python3"
  },
  "language_info": {
   "codemirror_mode": {
    "name": "ipython",
    "version": 3
   },
   "file_extension": ".py",
   "mimetype": "text/x-python",
   "name": "python",
   "nbconvert_exporter": "python",
   "pygments_lexer": "ipython3",
   "version": "3.7.4"
  }
 },
 "nbformat": 4,
 "nbformat_minor": 2
}
