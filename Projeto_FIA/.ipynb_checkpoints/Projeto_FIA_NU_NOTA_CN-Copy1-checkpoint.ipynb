{
 "cells": [
  {
   "cell_type": "code",
   "execution_count": null,
   "metadata": {},
   "outputs": [],
   "source": [
    "pip install category_encoders"
   ]
  },
  {
   "cell_type": "code",
   "execution_count": 1,
   "metadata": {},
   "outputs": [],
   "source": [
    "import category_encoders as ce"
   ]
  },
  {
   "cell_type": "code",
   "execution_count": 2,
   "metadata": {},
   "outputs": [],
   "source": [
    "import numpy as np"
   ]
  },
  {
   "cell_type": "code",
   "execution_count": 3,
   "metadata": {},
   "outputs": [],
   "source": [
    "import pandas as pd"
   ]
  },
  {
   "cell_type": "code",
   "execution_count": 4,
   "metadata": {},
   "outputs": [],
   "source": [
    "import sklearn as sk"
   ]
  },
  {
   "cell_type": "code",
   "execution_count": 5,
   "metadata": {},
   "outputs": [],
   "source": [
    "import matplotlib.pyplot as plt\n",
    "%matplotlib inline"
   ]
  },
  {
   "cell_type": "code",
   "execution_count": 6,
   "metadata": {},
   "outputs": [],
   "source": [
    "df = pd.read_csv(\"data_projeto_ENEM.csv\", sep=\",\")"
   ]
  },
  {
   "cell_type": "code",
   "execution_count": 7,
   "metadata": {},
   "outputs": [
    {
     "data": {
      "text/html": [
       "<div>\n",
       "<style scoped>\n",
       "    .dataframe tbody tr th:only-of-type {\n",
       "        vertical-align: middle;\n",
       "    }\n",
       "\n",
       "    .dataframe tbody tr th {\n",
       "        vertical-align: top;\n",
       "    }\n",
       "\n",
       "    .dataframe thead th {\n",
       "        text-align: right;\n",
       "    }\n",
       "</style>\n",
       "<table border=\"1\" class=\"dataframe\">\n",
       "  <thead>\n",
       "    <tr style=\"text-align: right;\">\n",
       "      <th></th>\n",
       "      <th>NU_INSCRICAO</th>\n",
       "      <th>NU_ANO</th>\n",
       "      <th>CO_MUNICIPIO_RESIDENCIA</th>\n",
       "      <th>NO_MUNICIPIO_RESIDENCIA</th>\n",
       "      <th>CO_UF_RESIDENCIA</th>\n",
       "      <th>SG_UF_RESIDENCIA</th>\n",
       "      <th>NU_IDADE</th>\n",
       "      <th>TP_SEXO</th>\n",
       "      <th>TP_ESTADO_CIVIL</th>\n",
       "      <th>TP_COR_RACA</th>\n",
       "      <th>...</th>\n",
       "      <th>Q018</th>\n",
       "      <th>Q019</th>\n",
       "      <th>Q020</th>\n",
       "      <th>Q021</th>\n",
       "      <th>Q022</th>\n",
       "      <th>Q023</th>\n",
       "      <th>Q024</th>\n",
       "      <th>Q025</th>\n",
       "      <th>Q026</th>\n",
       "      <th>Q027</th>\n",
       "    </tr>\n",
       "  </thead>\n",
       "  <tbody>\n",
       "    <tr>\n",
       "      <td>0</td>\n",
       "      <td>170005778262</td>\n",
       "      <td>2017</td>\n",
       "      <td>2108900</td>\n",
       "      <td>Poção de Pedras</td>\n",
       "      <td>21</td>\n",
       "      <td>MA</td>\n",
       "      <td>20.0</td>\n",
       "      <td>M</td>\n",
       "      <td>0.0</td>\n",
       "      <td>3</td>\n",
       "      <td>...</td>\n",
       "      <td>A</td>\n",
       "      <td>A</td>\n",
       "      <td>A</td>\n",
       "      <td>A</td>\n",
       "      <td>A</td>\n",
       "      <td>A</td>\n",
       "      <td>A</td>\n",
       "      <td>A</td>\n",
       "      <td>A</td>\n",
       "      <td>A</td>\n",
       "    </tr>\n",
       "    <tr>\n",
       "      <td>1</td>\n",
       "      <td>170003822638</td>\n",
       "      <td>2017</td>\n",
       "      <td>2604007</td>\n",
       "      <td>Carpina</td>\n",
       "      <td>26</td>\n",
       "      <td>PE</td>\n",
       "      <td>17.0</td>\n",
       "      <td>M</td>\n",
       "      <td>0.0</td>\n",
       "      <td>1</td>\n",
       "      <td>...</td>\n",
       "      <td>A</td>\n",
       "      <td>B</td>\n",
       "      <td>B</td>\n",
       "      <td>A</td>\n",
       "      <td>B</td>\n",
       "      <td>A</td>\n",
       "      <td>A</td>\n",
       "      <td>B</td>\n",
       "      <td>B</td>\n",
       "      <td>A</td>\n",
       "    </tr>\n",
       "    <tr>\n",
       "      <td>2</td>\n",
       "      <td>170005713640</td>\n",
       "      <td>2017</td>\n",
       "      <td>2512762</td>\n",
       "      <td>Riachão do Poço</td>\n",
       "      <td>25</td>\n",
       "      <td>PB</td>\n",
       "      <td>17.0</td>\n",
       "      <td>F</td>\n",
       "      <td>0.0</td>\n",
       "      <td>3</td>\n",
       "      <td>...</td>\n",
       "      <td>A</td>\n",
       "      <td>B</td>\n",
       "      <td>A</td>\n",
       "      <td>A</td>\n",
       "      <td>D</td>\n",
       "      <td>A</td>\n",
       "      <td>A</td>\n",
       "      <td>B</td>\n",
       "      <td>B</td>\n",
       "      <td>A</td>\n",
       "    </tr>\n",
       "    <tr>\n",
       "      <td>3</td>\n",
       "      <td>170000323750</td>\n",
       "      <td>2017</td>\n",
       "      <td>4106902</td>\n",
       "      <td>Curitiba</td>\n",
       "      <td>41</td>\n",
       "      <td>PR</td>\n",
       "      <td>22.0</td>\n",
       "      <td>M</td>\n",
       "      <td>0.0</td>\n",
       "      <td>1</td>\n",
       "      <td>...</td>\n",
       "      <td>A</td>\n",
       "      <td>B</td>\n",
       "      <td>B</td>\n",
       "      <td>B</td>\n",
       "      <td>C</td>\n",
       "      <td>B</td>\n",
       "      <td>B</td>\n",
       "      <td>B</td>\n",
       "      <td>A</td>\n",
       "      <td>A</td>\n",
       "    </tr>\n",
       "    <tr>\n",
       "      <td>4</td>\n",
       "      <td>170000783745</td>\n",
       "      <td>2017</td>\n",
       "      <td>3303906</td>\n",
       "      <td>Petrópolis</td>\n",
       "      <td>33</td>\n",
       "      <td>RJ</td>\n",
       "      <td>18.0</td>\n",
       "      <td>F</td>\n",
       "      <td>0.0</td>\n",
       "      <td>1</td>\n",
       "      <td>...</td>\n",
       "      <td>A</td>\n",
       "      <td>E</td>\n",
       "      <td>B</td>\n",
       "      <td>A</td>\n",
       "      <td>E</td>\n",
       "      <td>A</td>\n",
       "      <td>B</td>\n",
       "      <td>A</td>\n",
       "      <td>B</td>\n",
       "      <td>C</td>\n",
       "    </tr>\n",
       "  </tbody>\n",
       "</table>\n",
       "<p>5 rows × 113 columns</p>\n",
       "</div>"
      ],
      "text/plain": [
       "   NU_INSCRICAO  NU_ANO  CO_MUNICIPIO_RESIDENCIA NO_MUNICIPIO_RESIDENCIA  \\\n",
       "0  170005778262    2017                  2108900         Poção de Pedras   \n",
       "1  170003822638    2017                  2604007                 Carpina   \n",
       "2  170005713640    2017                  2512762         Riachão do Poço   \n",
       "3  170000323750    2017                  4106902                Curitiba   \n",
       "4  170000783745    2017                  3303906              Petrópolis   \n",
       "\n",
       "   CO_UF_RESIDENCIA SG_UF_RESIDENCIA  NU_IDADE TP_SEXO  TP_ESTADO_CIVIL  \\\n",
       "0                21               MA      20.0       M              0.0   \n",
       "1                26               PE      17.0       M              0.0   \n",
       "2                25               PB      17.0       F              0.0   \n",
       "3                41               PR      22.0       M              0.0   \n",
       "4                33               RJ      18.0       F              0.0   \n",
       "\n",
       "   TP_COR_RACA  ...  Q018  Q019 Q020  Q021 Q022  Q023  Q024  Q025  Q026  Q027  \n",
       "0            3  ...     A     A    A     A    A     A     A     A     A     A  \n",
       "1            1  ...     A     B    B     A    B     A     A     B     B     A  \n",
       "2            3  ...     A     B    A     A    D     A     A     B     B     A  \n",
       "3            1  ...     A     B    B     B    C     B     B     B     A     A  \n",
       "4            1  ...     A     E    B     A    E     A     B     A     B     C  \n",
       "\n",
       "[5 rows x 113 columns]"
      ]
     },
     "execution_count": 7,
     "metadata": {},
     "output_type": "execute_result"
    }
   ],
   "source": [
    "df.head()"
   ]
  },
  {
   "cell_type": "code",
   "execution_count": 8,
   "metadata": {},
   "outputs": [
    {
     "data": {
      "text/plain": [
       "NU_INSCRICAO               0\n",
       "NU_ANO                     0\n",
       "CO_MUNICIPIO_RESIDENCIA    0\n",
       "NO_MUNICIPIO_RESIDENCIA    0\n",
       "CO_UF_RESIDENCIA           0\n",
       "                          ..\n",
       "Q023                       0\n",
       "Q024                       0\n",
       "Q025                       0\n",
       "Q026                       0\n",
       "Q027                       0\n",
       "Length: 113, dtype: int64"
      ]
     },
     "execution_count": 8,
     "metadata": {},
     "output_type": "execute_result"
    }
   ],
   "source": [
    "(df.isnull()).sum()"
   ]
  },
  {
   "cell_type": "code",
   "execution_count": 9,
   "metadata": {},
   "outputs": [
    {
     "data": {
      "image/png": "[encoded data removed]",
      "text/plain": [
       "<Figure size 432x288 with 1 Axes>"
      ]
     },
     "metadata": {
      "needs_background": "light"
     },
     "output_type": "display_data"
    },
    {
     "data": {
      "image/png": "[encoded data removed]",
      "text/plain": [
       "<Figure size 432x288 with 1 Axes>"
      ]
     },
     "metadata": {
      "needs_background": "light"
     },
     "output_type": "display_data"
    },
    {
     "data": {
      "image/png": "[encoded data removed]",
      "text/plain": [
       "<Figure size 432x288 with 1 Axes>"
      ]
     },
     "metadata": {
      "needs_background": "light"
     },
     "output_type": "display_data"
    },
    {
     "data": {
      "image/png": "[encoded data removed]",
      "text/plain": [
       "<Figure size 432x288 with 1 Axes>"
      ]
     },
     "metadata": {
      "needs_background": "light"
     },
     "output_type": "display_data"
    }
   ],
   "source": [
    "plt.hist(df['NU_NOTA_CN'], bins=50, label='NU_NOTA_CN')\n",
    "plt.title('NU_NOTA_CN')\n",
    "plt.show()\n",
    "plt.hist(df['NU_NOTA_CH'], bins=50, label='NU_NOTA_CH')\n",
    "plt.title('NU_NOTA_CH')\n",
    "plt.show()\n",
    "plt.hist(df['NU_NOTA_LC'], bins=50, label='NU_NOTA_LC')\n",
    "plt.title('NU_NOTA_LC')\n",
    "plt.show()\n",
    "plt.hist(df['NU_NOTA_MT'], bins=50, label='NU_NOTA_MT')\n",
    "plt.title('NU_NOTA_MT')\n",
    "plt.show()"
   ]
  },
  {
   "cell_type": "code",
   "execution_count": 10,
   "metadata": {},
   "outputs": [
    {
     "data": {
      "text/plain": [
       "NU_INSCRICAO               0\n",
       "NU_ANO                     0\n",
       "CO_MUNICIPIO_RESIDENCIA    0\n",
       "NO_MUNICIPIO_RESIDENCIA    0\n",
       "CO_UF_RESIDENCIA           0\n",
       "                          ..\n",
       "Q023                       0\n",
       "Q024                       0\n",
       "Q025                       0\n",
       "Q026                       0\n",
       "Q027                       0\n",
       "Length: 113, dtype: int64"
      ]
     },
     "execution_count": 10,
     "metadata": {},
     "output_type": "execute_result"
    }
   ],
   "source": [
    "(df.isnull()).sum()"
   ]
  },
  {
   "cell_type": "code",
   "execution_count": 30,
   "metadata": {
    "scrolled": false
   },
   "outputs": [
    {
     "name": "stdout",
     "output_type": "stream",
     "text": [
      "NU_INSCRICAO 0\n",
      "NU_ANO 0\n",
      "CO_MUNICIPIO_RESIDENCIA 0\n",
      "NO_MUNICIPIO_RESIDENCIA 0\n",
      "CO_UF_RESIDENCIA 0\n",
      "SG_UF_RESIDENCIA 0\n",
      "NU_IDADE 6\n",
      "TP_SEXO 0\n",
      "TP_ESTADO_CIVIL 5631\n",
      "TP_COR_RACA 0\n",
      "TP_NACIONALIDADE 0\n",
      "CO_MUNICIPIO_NASCIMENTO 5767\n",
      "NO_MUNICIPIO_NASCIMENTO 5767\n",
      "CO_UF_NASCIMENTO 5767\n",
      "SG_UF_NASCIMENTO 5767\n",
      "TP_ST_CONCLUSAO 0\n",
      "TP_ANO_CONCLUIU 0\n",
      "TP_ESCOLA 0\n",
      "TP_ENSINO 121446\n",
      "IN_TREINEIRO 0\n",
      "CO_ESCOLA 121444\n",
      "CO_MUNICIPIO_ESC 121444\n",
      "NO_MUNICIPIO_ESC 121444\n",
      "CO_UF_ESC 121444\n",
      "SG_UF_ESC 121444\n",
      "TP_DEPENDENCIA_ADM_ESC 121444\n",
      "TP_LOCALIZACAO_ESC 121444\n",
      "TP_SIT_FUNC_ESC 121642\n",
      "IN_BAIXA_VISAO 0\n",
      "IN_CEGUEIRA 0\n",
      "IN_SURDEZ 0\n",
      "IN_DEFICIENCIA_AUDITIVA 0\n",
      "IN_SURDO_CEGUEIRA 0\n",
      "IN_DEFICIENCIA_FISICA 0\n",
      "IN_DEFICIENCIA_MENTAL 0\n",
      "IN_DEFICIT_ATENCAO 0\n",
      "IN_DISLEXIA 0\n",
      "IN_DISCALCULIA 0\n",
      "IN_AUTISMO 0\n",
      "IN_VISAO_MONOCULAR 0\n",
      "IN_OUTRA_DEF 0\n",
      "IN_GESTANTE 0\n",
      "IN_LACTANTE 0\n",
      "IN_IDOSO 0\n",
      "IN_ESTUDA_CLASSE_HOSPITALAR 0\n",
      "IN_SEM_RECURSO 0\n",
      "IN_BRAILLE 0\n",
      "IN_AMPLIADA_24 0\n",
      "IN_AMPLIADA_18 0\n",
      "IN_LEDOR 0\n",
      "IN_ACESSO 0\n",
      "IN_TRANSCRICAO 0\n",
      "IN_LIBRAS 0\n",
      "IN_LEITURA_LABIAL 0\n",
      "IN_MESA_CADEIRA_RODAS 0\n",
      "IN_MESA_CADEIRA_SEPARADA 0\n",
      "IN_APOIO_PERNA 0\n",
      "IN_GUIA_INTERPRETE 0\n",
      "IN_COMPUTADOR 0\n",
      "IN_CADEIRA_ESPECIAL 0\n",
      "IN_CADEIRA_CANHOTO 0\n",
      "IN_CADEIRA_ACOLCHOADA 0\n",
      "IN_PROVA_DEITADO 0\n",
      "IN_MOBILIARIO_OBESO 0\n",
      "IN_LAMINA_OVERLAY 0\n",
      "IN_PROTETOR_AURICULAR 0\n",
      "IN_MEDIDOR_GLICOSE 0\n",
      "IN_MAQUINA_BRAILE 0\n",
      "IN_SOROBAN 0\n",
      "IN_MARCA_PASSO 0\n",
      "IN_SONDA 0\n",
      "IN_MEDICAMENTOS 0\n",
      "IN_SALA_INDIVIDUAL 0\n",
      "IN_SALA_ESPECIAL 0\n",
      "IN_SALA_ACOMPANHANTE 0\n",
      "IN_MOBILIARIO_ESPECIFICO 0\n",
      "IN_MATERIAL_ESPECIFICO 0\n",
      "IN_NOME_SOCIAL 0\n",
      "CO_MUNICIPIO_PROVA 0\n",
      "NO_MUNICIPIO_PROVA 0\n",
      "CO_UF_PROVA 0\n",
      "SG_UF_PROVA 0\n",
      "NU_NOTA_CN 0\n",
      "NU_NOTA_CH 0\n",
      "NU_NOTA_LC 0\n",
      "NU_NOTA_MT 0\n",
      "Q001 0\n",
      "Q002 0\n",
      "Q003 0\n",
      "Q004 0\n",
      "Q005 0\n",
      "Q006 0\n",
      "Q007 0\n",
      "Q008 0\n",
      "Q009 0\n",
      "Q010 0\n",
      "Q011 0\n",
      "Q012 0\n",
      "Q013 0\n",
      "Q014 0\n",
      "Q015 0\n",
      "Q016 0\n",
      "Q017 0\n",
      "Q018 0\n",
      "Q019 0\n",
      "Q020 0\n",
      "Q021 0\n",
      "Q022 0\n",
      "Q023 0\n",
      "Q024 0\n",
      "Q025 0\n",
      "Q026 0\n",
      "Q027 0\n",
      "NU_NOTA_CN_MAIOR_650 0\n",
      "NU_NOTA_CH_MAIOR_650 0\n",
      "NU_NOTA_LC_MAIOR_650 0\n",
      "NU_NOTA_MT_MAIOR_650 0\n",
      "CO_MUNICIPIO_RESIDENCIA_TARGET_ENCODING 0\n"
     ]
    }
   ],
   "source": [
    "#for f in (df.isnull()).sum():\n",
    "#    print(type(f))\n",
    "for c in df.columns:\n",
    "    print(c, df[c].isnull().sum())"
   ]
  },
  {
   "cell_type": "markdown",
   "metadata": {},
   "source": [
    "#Preparação de variaveis"
   ]
  },
  {
   "cell_type": "code",
   "execution_count": 12,
   "metadata": {},
   "outputs": [],
   "source": [
    "def MaiorQue650(nota) -> int:\n",
    "    if(nota > 650):\n",
    "        return 1\n",
    "    return 0"
   ]
  },
  {
   "cell_type": "code",
   "execution_count": 13,
   "metadata": {},
   "outputs": [],
   "source": [
    "df['NU_NOTA_CN_MAIOR_650'] = df['NU_NOTA_CN'].apply(lambda x: MaiorQue650(x))"
   ]
  },
  {
   "cell_type": "code",
   "execution_count": 14,
   "metadata": {},
   "outputs": [],
   "source": [
    "df['NU_NOTA_CH_MAIOR_650'] = df['NU_NOTA_CH'].apply(lambda x: MaiorQue650(x))"
   ]
  },
  {
   "cell_type": "code",
   "execution_count": 15,
   "metadata": {},
   "outputs": [],
   "source": [
    "df['NU_NOTA_LC_MAIOR_650'] = df['NU_NOTA_LC'].apply(lambda x: MaiorQue650(x))"
   ]
  },
  {
   "cell_type": "code",
   "execution_count": 16,
   "metadata": {},
   "outputs": [],
   "source": [
    "df['NU_NOTA_MT_MAIOR_650'] = df['NU_NOTA_MT'].apply(lambda x: MaiorQue650(x))"
   ]
  },
  {
   "cell_type": "code",
   "execution_count": 17,
   "metadata": {},
   "outputs": [],
   "source": [
    "def ObtemValorVariavelOrdinaria(categoria, excecao) -> int:\n",
    "    switcher = {\n",
    "        \"A\":1,\n",
    "        \"B\":2,\n",
    "        \"C\":3,\n",
    "        \"D\":4,\n",
    "        \"E\":5,\n",
    "        \"F\":6,\n",
    "        \"G\":7,\n",
    "        \"H\":8,\n",
    "        \"I\":9,\n",
    "        \"J\":10,\n",
    "        \"L\":11,\n",
    "        \"M\":12,\n",
    "        \"N\":13,\n",
    "        \"O\":14,\n",
    "        \"P\":15,\n",
    "        \"Q\":13\n",
    "    }\n",
    "    if(categoria in excecao):\n",
    "        return -1\n",
    "    else:\n",
    "        return switcher.get(categoria, -1)"
   ]
  },
  {
   "cell_type": "code",
   "execution_count": 18,
   "metadata": {},
   "outputs": [
    {
     "data": {
      "text/plain": [
       "True"
      ]
     },
     "execution_count": 18,
     "metadata": {},
     "output_type": "execute_result"
    }
   ],
   "source": [
    "'a' in ['a','c', 'd']"
   ]
  },
  {
   "cell_type": "code",
   "execution_count": 19,
   "metadata": {},
   "outputs": [],
   "source": [
    "def calc_smooth_mean(df, by, on, m):\n",
    "    # Compute the global mean\n",
    "    mean = df[on].mean()\n",
    "\n",
    "    # Compute the number of values and the mean of each group\n",
    "    agg = df.groupby(by)[on].agg(['count', 'mean'])\n",
    "    counts = agg['count']\n",
    "    means = agg['mean']\n",
    "\n",
    "    # Compute the \"smoothed\" means\n",
    "    smooth = (counts * means + m * mean) / (counts + m)\n",
    "\n",
    "    # Replace each value by the according smoothed mean\n",
    "    return df[by].map(smooth)"
   ]
  },
  {
   "cell_type": "code",
   "execution_count": 20,
   "metadata": {},
   "outputs": [],
   "source": [
    "def get_target_encoding(df, by, on, enconding_type):\n",
    "    if(enconding_type == 0):\n",
    "        return calc_smooth_mean(df, by, on, 10)\n",
    "    else:\n",
    "        cat = ce.CatBoostEncoder()\n",
    "        cat.fit(df[by], df[on])\n",
    "        cat_enconding = cat.transform(df[by])\n",
    "        return cat_enconding[by]\n",
    "    "
   ]
  },
  {
   "cell_type": "code",
   "execution_count": 21,
   "metadata": {},
   "outputs": [],
   "source": [
    "#cat.fit(df['CO_MUNICIPIO_RESIDENCIA'], df['NU_NOTA_CN_MAIOR_650'])\n",
    "#CO_MUNICIPIO_RESIDENCIA_CAT = cat.transform(df['CO_MUNICIPIO_RESIDENCIA'])\n",
    "#df[['CO_MUNICIPIO_RESIDENCIA']] = CO_MUNICIPIO_RESIDENCIA_CAT.CO_MUNICIPIO_RESIDENCIA\n",
    "#df[['CO_MUNICIPIO_RESIDENCIA']] = pd.Series(df['CO_MUNICIPIO_RESIDENCIA'], dtype=\"category\")\n",
    "df['CO_MUNICIPIO_RESIDENCIA_TARGET_ENCODING'] = get_target_encoding(df, 'CO_MUNICIPIO_RESIDENCIA', 'NU_NOTA_CN_MAIOR_650', 0)"
   ]
  },
  {
   "cell_type": "code",
   "execution_count": 22,
   "metadata": {},
   "outputs": [
    {
     "data": {
      "image/png": "[encoded data removed]",
      "text/plain": [
       "<Figure size 432x288 with 1 Axes>"
      ]
     },
     "metadata": {
      "needs_background": "light"
     },
     "output_type": "display_data"
    },
    {
     "data": {
      "text/plain": [
       "CO_MUNICIPIO_RESIDENCIA\n",
       "1100015    493.842857\n",
       "1100023    499.745872\n",
       "1100031    461.300000\n",
       "1100049    507.156954\n",
       "1100056    484.550000\n",
       "              ...    \n",
       "5221908    507.733333\n",
       "5222005    542.700000\n",
       "5222203    440.825000\n",
       "5222302    501.600000\n",
       "5300108    523.417807\n",
       "Name: NU_NOTA_CN, Length: 5309, dtype: float64"
      ]
     },
     "execution_count": 22,
     "metadata": {},
     "output_type": "execute_result"
    }
   ],
   "source": [
    "plt.hist(df['CO_MUNICIPIO_RESIDENCIA_TARGET_ENCODING'], bins=50, label='CO_MUNICIPIO_RESIDENCIA_TARGET_ENCODING')\n",
    "plt.title('CO_MUNICIPIO_RESIDENCIA_TARGET_ENCODING')\n",
    "plt.show()\n",
    "df.groupby('CO_MUNICIPIO_RESIDENCIA')['NU_NOTA_CN'].mean()"
   ]
  },
  {
   "cell_type": "code",
   "execution_count": 23,
   "metadata": {},
   "outputs": [],
   "source": [
    "#df['CO_UF_RESIDENCIA'] = pd.Series(df['CO_UF_RESIDENCIA'], dtype=\"category\")\n",
    "#df.groupby('CO_UF_RESIDENCIA').size()"
   ]
  },
  {
   "cell_type": "code",
   "execution_count": 27,
   "metadata": {},
   "outputs": [],
   "source": [
    "#df[['SG_UF_RESIDENCIA']] = pd.Series(df['SG_UF_RESIDENCIA'], dtype=\"category\")\n",
    "SG_UF_RESIDENCIA_DUMMIES = pd.get_dummies(df['SG_UF_RESIDENCIA'], prefix = 'SG_UF_RESIDENCIA_DUMMIES_')\n",
    "#df.groupby('SG_UF_RESIDENCIA').size()"
   ]
  },
  {
   "cell_type": "code",
   "execution_count": 28,
   "metadata": {},
   "outputs": [
    {
     "data": {
      "text/html": [
       "<div>\n",
       "<style scoped>\n",
       "    .dataframe tbody tr th:only-of-type {\n",
       "        vertical-align: middle;\n",
       "    }\n",
       "\n",
       "    .dataframe tbody tr th {\n",
       "        vertical-align: top;\n",
       "    }\n",
       "\n",
       "    .dataframe thead th {\n",
       "        text-align: right;\n",
       "    }\n",
       "</style>\n",
       "<table border=\"1\" class=\"dataframe\">\n",
       "  <thead>\n",
       "    <tr style=\"text-align: right;\">\n",
       "      <th></th>\n",
       "      <th>SG_UF_RESIDENCIA_DUMMIES__AC</th>\n",
       "      <th>SG_UF_RESIDENCIA_DUMMIES__AL</th>\n",
       "      <th>SG_UF_RESIDENCIA_DUMMIES__AM</th>\n",
       "      <th>SG_UF_RESIDENCIA_DUMMIES__AP</th>\n",
       "      <th>SG_UF_RESIDENCIA_DUMMIES__BA</th>\n",
       "      <th>SG_UF_RESIDENCIA_DUMMIES__CE</th>\n",
       "      <th>SG_UF_RESIDENCIA_DUMMIES__DF</th>\n",
       "      <th>SG_UF_RESIDENCIA_DUMMIES__ES</th>\n",
       "      <th>SG_UF_RESIDENCIA_DUMMIES__GO</th>\n",
       "      <th>SG_UF_RESIDENCIA_DUMMIES__MA</th>\n",
       "      <th>...</th>\n",
       "      <th>SG_UF_RESIDENCIA_DUMMIES__PR</th>\n",
       "      <th>SG_UF_RESIDENCIA_DUMMIES__RJ</th>\n",
       "      <th>SG_UF_RESIDENCIA_DUMMIES__RN</th>\n",
       "      <th>SG_UF_RESIDENCIA_DUMMIES__RO</th>\n",
       "      <th>SG_UF_RESIDENCIA_DUMMIES__RR</th>\n",
       "      <th>SG_UF_RESIDENCIA_DUMMIES__RS</th>\n",
       "      <th>SG_UF_RESIDENCIA_DUMMIES__SC</th>\n",
       "      <th>SG_UF_RESIDENCIA_DUMMIES__SE</th>\n",
       "      <th>SG_UF_RESIDENCIA_DUMMIES__SP</th>\n",
       "      <th>SG_UF_RESIDENCIA_DUMMIES__TO</th>\n",
       "    </tr>\n",
       "  </thead>\n",
       "  <tbody>\n",
       "    <tr>\n",
       "      <td>0</td>\n",
       "      <td>0</td>\n",
       "      <td>0</td>\n",
       "      <td>0</td>\n",
       "      <td>0</td>\n",
       "      <td>0</td>\n",
       "      <td>0</td>\n",
       "      <td>0</td>\n",
       "      <td>0</td>\n",
       "      <td>0</td>\n",
       "      <td>1</td>\n",
       "      <td>...</td>\n",
       "      <td>0</td>\n",
       "      <td>0</td>\n",
       "      <td>0</td>\n",
       "      <td>0</td>\n",
       "      <td>0</td>\n",
       "      <td>0</td>\n",
       "      <td>0</td>\n",
       "      <td>0</td>\n",
       "      <td>0</td>\n",
       "      <td>0</td>\n",
       "    </tr>\n",
       "    <tr>\n",
       "      <td>1</td>\n",
       "      <td>0</td>\n",
       "      <td>0</td>\n",
       "      <td>0</td>\n",
       "      <td>0</td>\n",
       "      <td>0</td>\n",
       "      <td>0</td>\n",
       "      <td>0</td>\n",
       "      <td>0</td>\n",
       "      <td>0</td>\n",
       "      <td>0</td>\n",
       "      <td>...</td>\n",
       "      <td>0</td>\n",
       "      <td>0</td>\n",
       "      <td>0</td>\n",
       "      <td>0</td>\n",
       "      <td>0</td>\n",
       "      <td>0</td>\n",
       "      <td>0</td>\n",
       "      <td>0</td>\n",
       "      <td>0</td>\n",
       "      <td>0</td>\n",
       "    </tr>\n",
       "    <tr>\n",
       "      <td>2</td>\n",
       "      <td>0</td>\n",
       "      <td>0</td>\n",
       "      <td>0</td>\n",
       "      <td>0</td>\n",
       "      <td>0</td>\n",
       "      <td>0</td>\n",
       "      <td>0</td>\n",
       "      <td>0</td>\n",
       "      <td>0</td>\n",
       "      <td>0</td>\n",
       "      <td>...</td>\n",
       "      <td>0</td>\n",
       "      <td>0</td>\n",
       "      <td>0</td>\n",
       "      <td>0</td>\n",
       "      <td>0</td>\n",
       "      <td>0</td>\n",
       "      <td>0</td>\n",
       "      <td>0</td>\n",
       "      <td>0</td>\n",
       "      <td>0</td>\n",
       "    </tr>\n",
       "    <tr>\n",
       "      <td>3</td>\n",
       "      <td>0</td>\n",
       "      <td>0</td>\n",
       "      <td>0</td>\n",
       "      <td>0</td>\n",
       "      <td>0</td>\n",
       "      <td>0</td>\n",
       "      <td>0</td>\n",
       "      <td>0</td>\n",
       "      <td>0</td>\n",
       "      <td>0</td>\n",
       "      <td>...</td>\n",
       "      <td>1</td>\n",
       "      <td>0</td>\n",
       "      <td>0</td>\n",
       "      <td>0</td>\n",
       "      <td>0</td>\n",
       "      <td>0</td>\n",
       "      <td>0</td>\n",
       "      <td>0</td>\n",
       "      <td>0</td>\n",
       "      <td>0</td>\n",
       "    </tr>\n",
       "    <tr>\n",
       "      <td>4</td>\n",
       "      <td>0</td>\n",
       "      <td>0</td>\n",
       "      <td>0</td>\n",
       "      <td>0</td>\n",
       "      <td>0</td>\n",
       "      <td>0</td>\n",
       "      <td>0</td>\n",
       "      <td>0</td>\n",
       "      <td>0</td>\n",
       "      <td>0</td>\n",
       "      <td>...</td>\n",
       "      <td>0</td>\n",
       "      <td>1</td>\n",
       "      <td>0</td>\n",
       "      <td>0</td>\n",
       "      <td>0</td>\n",
       "      <td>0</td>\n",
       "      <td>0</td>\n",
       "      <td>0</td>\n",
       "      <td>0</td>\n",
       "      <td>0</td>\n",
       "    </tr>\n",
       "    <tr>\n",
       "      <td>...</td>\n",
       "      <td>...</td>\n",
       "      <td>...</td>\n",
       "      <td>...</td>\n",
       "      <td>...</td>\n",
       "      <td>...</td>\n",
       "      <td>...</td>\n",
       "      <td>...</td>\n",
       "      <td>...</td>\n",
       "      <td>...</td>\n",
       "      <td>...</td>\n",
       "      <td>...</td>\n",
       "      <td>...</td>\n",
       "      <td>...</td>\n",
       "      <td>...</td>\n",
       "      <td>...</td>\n",
       "      <td>...</td>\n",
       "      <td>...</td>\n",
       "      <td>...</td>\n",
       "      <td>...</td>\n",
       "      <td>...</td>\n",
       "      <td>...</td>\n",
       "    </tr>\n",
       "    <tr>\n",
       "      <td>176885</td>\n",
       "      <td>0</td>\n",
       "      <td>0</td>\n",
       "      <td>0</td>\n",
       "      <td>0</td>\n",
       "      <td>1</td>\n",
       "      <td>0</td>\n",
       "      <td>0</td>\n",
       "      <td>0</td>\n",
       "      <td>0</td>\n",
       "      <td>0</td>\n",
       "      <td>...</td>\n",
       "      <td>0</td>\n",
       "      <td>0</td>\n",
       "      <td>0</td>\n",
       "      <td>0</td>\n",
       "      <td>0</td>\n",
       "      <td>0</td>\n",
       "      <td>0</td>\n",
       "      <td>0</td>\n",
       "      <td>0</td>\n",
       "      <td>0</td>\n",
       "    </tr>\n",
       "    <tr>\n",
       "      <td>176886</td>\n",
       "      <td>0</td>\n",
       "      <td>0</td>\n",
       "      <td>0</td>\n",
       "      <td>0</td>\n",
       "      <td>0</td>\n",
       "      <td>0</td>\n",
       "      <td>0</td>\n",
       "      <td>0</td>\n",
       "      <td>0</td>\n",
       "      <td>0</td>\n",
       "      <td>...</td>\n",
       "      <td>0</td>\n",
       "      <td>0</td>\n",
       "      <td>0</td>\n",
       "      <td>0</td>\n",
       "      <td>0</td>\n",
       "      <td>1</td>\n",
       "      <td>0</td>\n",
       "      <td>0</td>\n",
       "      <td>0</td>\n",
       "      <td>0</td>\n",
       "    </tr>\n",
       "    <tr>\n",
       "      <td>176887</td>\n",
       "      <td>0</td>\n",
       "      <td>0</td>\n",
       "      <td>0</td>\n",
       "      <td>0</td>\n",
       "      <td>0</td>\n",
       "      <td>0</td>\n",
       "      <td>0</td>\n",
       "      <td>0</td>\n",
       "      <td>0</td>\n",
       "      <td>0</td>\n",
       "      <td>...</td>\n",
       "      <td>0</td>\n",
       "      <td>0</td>\n",
       "      <td>1</td>\n",
       "      <td>0</td>\n",
       "      <td>0</td>\n",
       "      <td>0</td>\n",
       "      <td>0</td>\n",
       "      <td>0</td>\n",
       "      <td>0</td>\n",
       "      <td>0</td>\n",
       "    </tr>\n",
       "    <tr>\n",
       "      <td>176888</td>\n",
       "      <td>0</td>\n",
       "      <td>0</td>\n",
       "      <td>0</td>\n",
       "      <td>0</td>\n",
       "      <td>0</td>\n",
       "      <td>0</td>\n",
       "      <td>0</td>\n",
       "      <td>0</td>\n",
       "      <td>0</td>\n",
       "      <td>0</td>\n",
       "      <td>...</td>\n",
       "      <td>0</td>\n",
       "      <td>0</td>\n",
       "      <td>0</td>\n",
       "      <td>0</td>\n",
       "      <td>0</td>\n",
       "      <td>0</td>\n",
       "      <td>0</td>\n",
       "      <td>0</td>\n",
       "      <td>0</td>\n",
       "      <td>0</td>\n",
       "    </tr>\n",
       "    <tr>\n",
       "      <td>176889</td>\n",
       "      <td>0</td>\n",
       "      <td>0</td>\n",
       "      <td>0</td>\n",
       "      <td>0</td>\n",
       "      <td>0</td>\n",
       "      <td>0</td>\n",
       "      <td>0</td>\n",
       "      <td>0</td>\n",
       "      <td>0</td>\n",
       "      <td>0</td>\n",
       "      <td>...</td>\n",
       "      <td>0</td>\n",
       "      <td>0</td>\n",
       "      <td>0</td>\n",
       "      <td>0</td>\n",
       "      <td>0</td>\n",
       "      <td>0</td>\n",
       "      <td>0</td>\n",
       "      <td>0</td>\n",
       "      <td>0</td>\n",
       "      <td>0</td>\n",
       "    </tr>\n",
       "  </tbody>\n",
       "</table>\n",
       "<p>176890 rows × 27 columns</p>\n",
       "</div>"
      ],
      "text/plain": [
       "        SG_UF_RESIDENCIA_DUMMIES__AC  SG_UF_RESIDENCIA_DUMMIES__AL  \\\n",
       "0                                  0                             0   \n",
       "1                                  0                             0   \n",
       "2                                  0                             0   \n",
       "3                                  0                             0   \n",
       "4                                  0                             0   \n",
       "...                              ...                           ...   \n",
       "176885                             0                             0   \n",
       "176886                             0                             0   \n",
       "176887                             0                             0   \n",
       "176888                             0                             0   \n",
       "176889                             0                             0   \n",
       "\n",
       "        SG_UF_RESIDENCIA_DUMMIES__AM  SG_UF_RESIDENCIA_DUMMIES__AP  \\\n",
       "0                                  0                             0   \n",
       "1                                  0                             0   \n",
       "2                                  0                             0   \n",
       "3                                  0                             0   \n",
       "4                                  0                             0   \n",
       "...                              ...                           ...   \n",
       "176885                             0                             0   \n",
       "176886                             0                             0   \n",
       "176887                             0                             0   \n",
       "176888                             0                             0   \n",
       "176889                             0                             0   \n",
       "\n",
       "        SG_UF_RESIDENCIA_DUMMIES__BA  SG_UF_RESIDENCIA_DUMMIES__CE  \\\n",
       "0                                  0                             0   \n",
       "1                                  0                             0   \n",
       "2                                  0                             0   \n",
       "3                                  0                             0   \n",
       "4                                  0                             0   \n",
       "...                              ...                           ...   \n",
       "176885                             1                             0   \n",
       "176886                             0                             0   \n",
       "176887                             0                             0   \n",
       "176888                             0                             0   \n",
       "176889                             0                             0   \n",
       "\n",
       "        SG_UF_RESIDENCIA_DUMMIES__DF  SG_UF_RESIDENCIA_DUMMIES__ES  \\\n",
       "0                                  0                             0   \n",
       "1                                  0                             0   \n",
       "2                                  0                             0   \n",
       "3                                  0                             0   \n",
       "4                                  0                             0   \n",
       "...                              ...                           ...   \n",
       "176885                             0                             0   \n",
       "176886                             0                             0   \n",
       "176887                             0                             0   \n",
       "176888                             0                             0   \n",
       "176889                             0                             0   \n",
       "\n",
       "        SG_UF_RESIDENCIA_DUMMIES__GO  SG_UF_RESIDENCIA_DUMMIES__MA  ...  \\\n",
       "0                                  0                             1  ...   \n",
       "1                                  0                             0  ...   \n",
       "2                                  0                             0  ...   \n",
       "3                                  0                             0  ...   \n",
       "4                                  0                             0  ...   \n",
       "...                              ...                           ...  ...   \n",
       "176885                             0                             0  ...   \n",
       "176886                             0                             0  ...   \n",
       "176887                             0                             0  ...   \n",
       "176888                             0                             0  ...   \n",
       "176889                             0                             0  ...   \n",
       "\n",
       "        SG_UF_RESIDENCIA_DUMMIES__PR  SG_UF_RESIDENCIA_DUMMIES__RJ  \\\n",
       "0                                  0                             0   \n",
       "1                                  0                             0   \n",
       "2                                  0                             0   \n",
       "3                                  1                             0   \n",
       "4                                  0                             1   \n",
       "...                              ...                           ...   \n",
       "176885                             0                             0   \n",
       "176886                             0                             0   \n",
       "176887                             0                             0   \n",
       "176888                             0                             0   \n",
       "176889                             0                             0   \n",
       "\n",
       "        SG_UF_RESIDENCIA_DUMMIES__RN  SG_UF_RESIDENCIA_DUMMIES__RO  \\\n",
       "0                                  0                             0   \n",
       "1                                  0                             0   \n",
       "2                                  0                             0   \n",
       "3                                  0                             0   \n",
       "4                                  0                             0   \n",
       "...                              ...                           ...   \n",
       "176885                             0                             0   \n",
       "176886                             0                             0   \n",
       "176887                             1                             0   \n",
       "176888                             0                             0   \n",
       "176889                             0                             0   \n",
       "\n",
       "        SG_UF_RESIDENCIA_DUMMIES__RR  SG_UF_RESIDENCIA_DUMMIES__RS  \\\n",
       "0                                  0                             0   \n",
       "1                                  0                             0   \n",
       "2                                  0                             0   \n",
       "3                                  0                             0   \n",
       "4                                  0                             0   \n",
       "...                              ...                           ...   \n",
       "176885                             0                             0   \n",
       "176886                             0                             1   \n",
       "176887                             0                             0   \n",
       "176888                             0                             0   \n",
       "176889                             0                             0   \n",
       "\n",
       "        SG_UF_RESIDENCIA_DUMMIES__SC  SG_UF_RESIDENCIA_DUMMIES__SE  \\\n",
       "0                                  0                             0   \n",
       "1                                  0                             0   \n",
       "2                                  0                             0   \n",
       "3                                  0                             0   \n",
       "4                                  0                             0   \n",
       "...                              ...                           ...   \n",
       "176885                             0                             0   \n",
       "176886                             0                             0   \n",
       "176887                             0                             0   \n",
       "176888                             0                             0   \n",
       "176889                             0                             0   \n",
       "\n",
       "        SG_UF_RESIDENCIA_DUMMIES__SP  SG_UF_RESIDENCIA_DUMMIES__TO  \n",
       "0                                  0                             0  \n",
       "1                                  0                             0  \n",
       "2                                  0                             0  \n",
       "3                                  0                             0  \n",
       "4                                  0                             0  \n",
       "...                              ...                           ...  \n",
       "176885                             0                             0  \n",
       "176886                             0                             0  \n",
       "176887                             0                             0  \n",
       "176888                             0                             0  \n",
       "176889                             0                             0  \n",
       "\n",
       "[176890 rows x 27 columns]"
      ]
     },
     "execution_count": 28,
     "metadata": {},
     "output_type": "execute_result"
    }
   ],
   "source": [
    "SG_UF_RESIDENCIA_DUMMIES"
   ]
  },
  {
   "cell_type": "code",
   "execution_count": null,
   "metadata": {},
   "outputs": [],
   "source": [
    "#Resolvendo missing da Idade\n",
    "mediana_NU_IDADE = df['NU_IDADE'].median()\n",
    "mediana_NU_IDADE\n",
    "df[\"NU_IDADE\"].fillna(mediana_NU_IDADE, inplace = True)\n",
    "#df[['NU_IDADE']] = pd.Series(df['NU_IDADE'], dtype=\"category\")"
   ]
  },
  {
   "cell_type": "code",
   "execution_count": null,
   "metadata": {},
   "outputs": [],
   "source": [
    "df['TP_SEXO'] = pd.Series(df['TP_SEXO'], dtype=\"category\")\n",
    "df.groupby('TP_SEXO').size()"
   ]
  },
  {
   "cell_type": "code",
   "execution_count": null,
   "metadata": {},
   "outputs": [],
   "source": [
    "df[\"TP_ESTADO_CIVIL\"].fillna('MISSING', inplace = True)\n",
    "df[['TP_ESTADO_CIVIL']] = pd.Series(df['TP_ESTADO_CIVIL'], dtype=\"category\")\n",
    "SG_UF_RESIDENCIA_DUMMIES = pd.get_dummies(df['TP_ESTADO_CIVIL'], prefix = 'SG_UF_RESIDENCIA_DUMMIES_')\n",
    "#SG_UF_RESIDENCIA_DUMMIES\n",
    "#df.groupby('TP_ESTADO_CIVIL').size()\n",
    "#pd.pivot_table(df[[\"TP_ESTADO_CIVIL\", 'NU_NOTA_CN_MAIOR_650']])\n",
    "#pd.pivot_table(df[[\"TP_ESTADO_CIVIL\", 'NU_NOTA_CN_MAIOR_650']], index=['NU_NOTA_CN_MAIOR_650', 'TP_ESTADO_CIVIL'], columns=['TP_ESTADO_CIVIL'], aggfunc=np.sum)"
   ]
  },
  {
   "cell_type": "code",
   "execution_count": null,
   "metadata": {},
   "outputs": [],
   "source": [
    "df[['TP_COR_RACA']] = pd.Series(df['TP_COR_RACA'], dtype=\"category\")\n",
    "TP_COR_RACA_DUMMIES = pd.get_dummies(df['TP_COR_RACA'], prefix = 'TP_COR_RACA_DUMMIES_')"
   ]
  },
  {
   "cell_type": "code",
   "execution_count": null,
   "metadata": {},
   "outputs": [],
   "source": [
    "df[['TP_NACIONALIDADE']] = pd.Series(df['TP_NACIONALIDADE'], dtype=\"category\")\n",
    "TP_NACIONALIDADE_DUMMIES = pd.get_dummies(df['TP_NACIONALIDADE'], prefix = 'TP_NACIONALIDADE_DUMMIES_')"
   ]
  },
  {
   "cell_type": "code",
   "execution_count": null,
   "metadata": {},
   "outputs": [],
   "source": [
    "df[\"CO_MUNICIPIO_NASCIMENTO\"].fillna('MISSING', inplace = True)\n",
    "df['CO_MUNICIPIO_NASCIMENTO_TARGET_ENCODING'] = get_target_encoding(df, 'CO_MUNICIPIO_NASCIMENTO', 'NU_NOTA_CN_MAIOR_650', 0)"
   ]
  },
  {
   "cell_type": "code",
   "execution_count": null,
   "metadata": {},
   "outputs": [],
   "source": [
    "df[\"SG_UF_NASCIMENTO\"].fillna('MISSING', inplace = True)\n",
    "df['SG_UF_NASCIMENTO'] = pd.Series(df['SG_UF_NASCIMENTO'], dtype=\"category\")\n",
    "SG_UF_NASCIMENTO_DUMMIES = pd.get_dummies(df['SG_UF_NASCIMENTO'], prefix = 'SG_UF_NASCIMENTO_DUMMIES_')"
   ]
  },
  {
   "cell_type": "code",
   "execution_count": null,
   "metadata": {
    "scrolled": true
   },
   "outputs": [],
   "source": [
    "df.groupby('TP_ST_CONCLUSAO').size()"
   ]
  },
  {
   "cell_type": "code",
   "execution_count": null,
   "metadata": {},
   "outputs": [],
   "source": [
    "df['TP_ST_CONCLUSAO'] = pd.Series(df['TP_ST_CONCLUSAO'], dtype=\"category\")\n",
    "TP_ST_CONCLUSAO_DUMMIES = pd.get_dummies(df['TP_ST_CONCLUSAO'], prefix = 'TP_ST_CONCLUSAO_DUMMIES_'))\n",
    "TP_ST_CONCLUSAO_DUMMIES"
   ]
  },
  {
   "cell_type": "code",
   "execution_count": null,
   "metadata": {},
   "outputs": [],
   "source": [
    "TP_ANO_CONCLUIU_DUMMIES = pd.get_dummies(df['TP_ANO_CONCLUIU'], prefix = 'TP_ANO_CONCLUIU_DUMMIES_')\n",
    "df['TP_ANO_CONCLUIU'] = pd.Series(df['TP_ANO_CONCLUIU'], dtype=\"category\")"
   ]
  },
  {
   "cell_type": "code",
   "execution_count": null,
   "metadata": {},
   "outputs": [],
   "source": [
    "TP_ESCOLA_DUMMIES = pd.get_dummies(df['TP_ESCOLA'], prefix = 'TP_ESCOLA_DUMMIES_')\n",
    "df[['TP_ESCOLA']] = pd.Series(df['TP_ESCOLA'], dtype=\"category\")"
   ]
  },
  {
   "cell_type": "code",
   "execution_count": null,
   "metadata": {},
   "outputs": [],
   "source": [
    "df[\"TP_ENSINO\"].fillna('MISSING', inplace = True)\n",
    "TP_ENSINO_DUMMIES = pd.get_dummies(df['TP_ENSINO'], prefix = 'TP_ENSINO_DUMMIES_')\n",
    "#df[['TP_ENSINO']] = pd.Series(df['TP_ENSINO'], dtype=\"category\")"
   ]
  },
  {
   "cell_type": "code",
   "execution_count": null,
   "metadata": {},
   "outputs": [],
   "source": [
    "df.groupby('IN_TREINEIRO').size()"
   ]
  },
  {
   "cell_type": "code",
   "execution_count": null,
   "metadata": {},
   "outputs": [],
   "source": [
    "df[\"IN_TREINEIRO\"].fillna('MISSING', inplace = True)\n",
    "IN_TREINEIRO_DUMMIES = pd.get_dummies(df['TP_ENSINO'], prefix = 'IN_TREINEIRO_DUMMIES_')\n",
    "#df[['IN_TREINEIRO']] = pd.Series(df['IN_TREINEIRO'], dtype=\"category\")"
   ]
  },
  {
   "cell_type": "code",
   "execution_count": null,
   "metadata": {},
   "outputs": [],
   "source": [
    "df[\"CO_ESCOLA\"].fillna('MISSING', inplace = True)\n",
    "df['CO_ESCOLA_TARGET_ENCODING'] = get_target_encoding(df, 'CO_ESCOLA', 'NU_NOTA_CN_MAIOR_650', 0)"
   ]
  },
  {
   "cell_type": "code",
   "execution_count": null,
   "metadata": {},
   "outputs": [],
   "source": [
    "df[\"CO_MUNICIPIO_ESC\"].fillna('MISSING', inplace = True)\n",
    "df['CO_MUNICIPIO_ESC_TARGET_ENCODING'] = get_target_encoding(df, 'CO_MUNICIPIO_ESC', 'NU_NOTA_CN_MAIOR_650', 0)"
   ]
  },
  {
   "cell_type": "code",
   "execution_count": null,
   "metadata": {},
   "outputs": [],
   "source": [
    "df.groupby('SG_UF_ESC').size()"
   ]
  },
  {
   "cell_type": "code",
   "execution_count": null,
   "metadata": {},
   "outputs": [],
   "source": [
    "df[\"SG_UF_ESC\"].fillna('MISSING', inplace = True)\n",
    "SG_UF_ESC_DUMMIES = pd.get_dummies(df['SG_UF_ESC'], prefix = 'SG_UF_ESC_DUMMIES_')"
   ]
  },
  {
   "cell_type": "code",
   "execution_count": null,
   "metadata": {},
   "outputs": [],
   "source": [
    "df[\"TP_DEPENDENCIA_ADM_ESC\"].fillna('MISSING', inplace = True)\n",
    "TP_DEPENDENCIA_ADM_ESC_DUMMIES = pd.get_dummies(df['TP_DEPENDENCIA_ADM_ESC'], prefix = 'TP_DEPENDENCIA_ADM_ESC_DUMMIES_')\n",
    "#df['TP_DEPENDENCIA_ADM_ESC'] = pd.Series(df['TP_DEPENDENCIA_ADM_ESC'], dtype=\"category\")"
   ]
  },
  {
   "cell_type": "code",
   "execution_count": 29,
   "metadata": {
    "scrolled": true
   },
   "outputs": [
    {
     "data": {
      "text/plain": [
       "TP_LOCALIZACAO_ESC\n",
       "1.0    53736\n",
       "2.0     1710\n",
       "dtype: int64"
      ]
     },
     "execution_count": 29,
     "metadata": {},
     "output_type": "execute_result"
    }
   ],
   "source": [
    "df.groupby('TP_LOCALIZACAO_ESC').size()"
   ]
  },
  {
   "cell_type": "code",
   "execution_count": 32,
   "metadata": {},
   "outputs": [],
   "source": [
    "df[\"TP_LOCALIZACAO_ESC\"].fillna('MISSING', inplace = True)\n",
    "TP_LOCALIZACAO_ESC_DUMMIES = pd.get_dummies(df['TP_LOCALIZACAO_ESC'], prefix = 'TP_LOCALIZACAO_ESC_DUMMIES_')"
   ]
  },
  {
   "cell_type": "code",
   "execution_count": 33,
   "metadata": {},
   "outputs": [
    {
     "data": {
      "text/html": [
       "<div>\n",
       "<style scoped>\n",
       "    .dataframe tbody tr th:only-of-type {\n",
       "        vertical-align: middle;\n",
       "    }\n",
       "\n",
       "    .dataframe tbody tr th {\n",
       "        vertical-align: top;\n",
       "    }\n",
       "\n",
       "    .dataframe thead th {\n",
       "        text-align: right;\n",
       "    }\n",
       "</style>\n",
       "<table border=\"1\" class=\"dataframe\">\n",
       "  <thead>\n",
       "    <tr style=\"text-align: right;\">\n",
       "      <th></th>\n",
       "      <th>TP_LOCALIZACAO_ESC_DUMMIES__1.0</th>\n",
       "      <th>TP_LOCALIZACAO_ESC_DUMMIES__2.0</th>\n",
       "      <th>TP_LOCALIZACAO_ESC_DUMMIES__MISSING</th>\n",
       "    </tr>\n",
       "  </thead>\n",
       "  <tbody>\n",
       "    <tr>\n",
       "      <td>0</td>\n",
       "      <td>0</td>\n",
       "      <td>0</td>\n",
       "      <td>1</td>\n",
       "    </tr>\n",
       "    <tr>\n",
       "      <td>1</td>\n",
       "      <td>1</td>\n",
       "      <td>0</td>\n",
       "      <td>0</td>\n",
       "    </tr>\n",
       "    <tr>\n",
       "      <td>2</td>\n",
       "      <td>1</td>\n",
       "      <td>0</td>\n",
       "      <td>0</td>\n",
       "    </tr>\n",
       "    <tr>\n",
       "      <td>3</td>\n",
       "      <td>0</td>\n",
       "      <td>0</td>\n",
       "      <td>1</td>\n",
       "    </tr>\n",
       "    <tr>\n",
       "      <td>4</td>\n",
       "      <td>1</td>\n",
       "      <td>0</td>\n",
       "      <td>0</td>\n",
       "    </tr>\n",
       "    <tr>\n",
       "      <td>...</td>\n",
       "      <td>...</td>\n",
       "      <td>...</td>\n",
       "      <td>...</td>\n",
       "    </tr>\n",
       "    <tr>\n",
       "      <td>176885</td>\n",
       "      <td>0</td>\n",
       "      <td>0</td>\n",
       "      <td>1</td>\n",
       "    </tr>\n",
       "    <tr>\n",
       "      <td>176886</td>\n",
       "      <td>1</td>\n",
       "      <td>0</td>\n",
       "      <td>0</td>\n",
       "    </tr>\n",
       "    <tr>\n",
       "      <td>176887</td>\n",
       "      <td>0</td>\n",
       "      <td>0</td>\n",
       "      <td>1</td>\n",
       "    </tr>\n",
       "    <tr>\n",
       "      <td>176888</td>\n",
       "      <td>0</td>\n",
       "      <td>0</td>\n",
       "      <td>1</td>\n",
       "    </tr>\n",
       "    <tr>\n",
       "      <td>176889</td>\n",
       "      <td>0</td>\n",
       "      <td>0</td>\n",
       "      <td>1</td>\n",
       "    </tr>\n",
       "  </tbody>\n",
       "</table>\n",
       "<p>176890 rows × 3 columns</p>\n",
       "</div>"
      ],
      "text/plain": [
       "        TP_LOCALIZACAO_ESC_DUMMIES__1.0  TP_LOCALIZACAO_ESC_DUMMIES__2.0  \\\n",
       "0                                     0                                0   \n",
       "1                                     1                                0   \n",
       "2                                     1                                0   \n",
       "3                                     0                                0   \n",
       "4                                     1                                0   \n",
       "...                                 ...                              ...   \n",
       "176885                                0                                0   \n",
       "176886                                1                                0   \n",
       "176887                                0                                0   \n",
       "176888                                0                                0   \n",
       "176889                                0                                0   \n",
       "\n",
       "        TP_LOCALIZACAO_ESC_DUMMIES__MISSING  \n",
       "0                                         1  \n",
       "1                                         0  \n",
       "2                                         0  \n",
       "3                                         1  \n",
       "4                                         0  \n",
       "...                                     ...  \n",
       "176885                                    1  \n",
       "176886                                    0  \n",
       "176887                                    1  \n",
       "176888                                    1  \n",
       "176889                                    1  \n",
       "\n",
       "[176890 rows x 3 columns]"
      ]
     },
     "execution_count": 33,
     "metadata": {},
     "output_type": "execute_result"
    }
   ],
   "source": [
    "TP_LOCALIZACAO_ESC_DUMMIES"
   ]
  },
  {
   "cell_type": "code",
   "execution_count": null,
   "metadata": {},
   "outputs": [],
   "source": [
    "df.groupby('TP_SIT_FUNC_ESC').size()"
   ]
  },
  {
   "cell_type": "code",
   "execution_count": null,
   "metadata": {},
   "outputs": [],
   "source": [
    "df[\"TP_SIT_FUNC_ESC\"].fillna('MISSING', inplace = True)\n",
    "TP_SIT_FUNC_ESC_DUMMIES = pd.get_dummies(df['TP_SIT_FUNC_ESC'], prefix = 'TP_SIT_FUNC_ESC_DUMMIES_')\n",
    "#df[['TP_SIT_FUNC_ESC']] = pd.Series(df['TP_SIT_FUNC_ESC'], dtype=\"category\")"
   ]
  },
  {
   "cell_type": "code",
   "execution_count": null,
   "metadata": {},
   "outputs": [],
   "source": [
    "df[['IN_BAIXA_VISAO']] = pd.Series(df['IN_BAIXA_VISAO'], dtype=\"category\")"
   ]
  },
  {
   "cell_type": "code",
   "execution_count": null,
   "metadata": {},
   "outputs": [],
   "source": [
    "df[['IN_CEGUEIRA']] = pd.Series(df['IN_CEGUEIRA'], dtype=\"category\")"
   ]
  },
  {
   "cell_type": "code",
   "execution_count": null,
   "metadata": {},
   "outputs": [],
   "source": [
    "df[['IN_SURDEZ']] = pd.Series(df['IN_SURDEZ'], dtype=\"category\")"
   ]
  },
  {
   "cell_type": "code",
   "execution_count": null,
   "metadata": {},
   "outputs": [],
   "source": [
    "df[['IN_DEFICIENCIA_AUDITIVA']] = pd.Series(df['IN_DEFICIENCIA_AUDITIVA'], dtype=\"category\")"
   ]
  },
  {
   "cell_type": "code",
   "execution_count": null,
   "metadata": {},
   "outputs": [],
   "source": [
    "df[['IN_DEFICIENCIA_FISICA']] = pd.Series(df['IN_DEFICIENCIA_FISICA'], dtype=\"category\")"
   ]
  },
  {
   "cell_type": "code",
   "execution_count": null,
   "metadata": {},
   "outputs": [],
   "source": [
    "df[['IN_SURDO_CEGUEIRA']] = pd.Series(df['IN_SURDO_CEGUEIRA'], dtype=\"category\")"
   ]
  },
  {
   "cell_type": "code",
   "execution_count": null,
   "metadata": {},
   "outputs": [],
   "source": [
    "df[['IN_DEFICIENCIA_MENTAL']] = pd.Series(df['IN_DEFICIENCIA_MENTAL'], dtype=\"category\")"
   ]
  },
  {
   "cell_type": "code",
   "execution_count": null,
   "metadata": {},
   "outputs": [],
   "source": [
    "df[['IN_DISLEXIA']] = pd.Series(df['IN_DISLEXIA'], dtype=\"category\")"
   ]
  },
  {
   "cell_type": "code",
   "execution_count": null,
   "metadata": {},
   "outputs": [],
   "source": [
    "df[['IN_DISCALCULIA']] = pd.Series(df['IN_DISCALCULIA'], dtype=\"category\")"
   ]
  },
  {
   "cell_type": "code",
   "execution_count": null,
   "metadata": {},
   "outputs": [],
   "source": [
    "df[['IN_SURDO_CEGUEIRA']] = pd.Series(df['IN_SURDO_CEGUEIRA'], dtype=\"category\")"
   ]
  },
  {
   "cell_type": "code",
   "execution_count": null,
   "metadata": {},
   "outputs": [],
   "source": [
    "df[['IN_AUTISMO']] = pd.Series(df['IN_AUTISMO'], dtype=\"category\")"
   ]
  },
  {
   "cell_type": "code",
   "execution_count": null,
   "metadata": {},
   "outputs": [],
   "source": [
    "df[['IN_VISAO_MONOCULAR']] = pd.Series(df['IN_VISAO_MONOCULAR'], dtype=\"category\")"
   ]
  },
  {
   "cell_type": "code",
   "execution_count": null,
   "metadata": {},
   "outputs": [],
   "source": [
    "df[['IN_OUTRA_DEF']] = pd.Series(df['IN_OUTRA_DEF'], dtype=\"category\")"
   ]
  },
  {
   "cell_type": "code",
   "execution_count": null,
   "metadata": {},
   "outputs": [],
   "source": [
    "df[['IN_GESTANTE']] = pd.Series(df['IN_GESTANTE'], dtype=\"category\")"
   ]
  },
  {
   "cell_type": "code",
   "execution_count": null,
   "metadata": {},
   "outputs": [],
   "source": [
    "df[['IN_LACTANTE']] = pd.Series(df['IN_LACTANTE'], dtype=\"category\")"
   ]
  },
  {
   "cell_type": "code",
   "execution_count": null,
   "metadata": {},
   "outputs": [],
   "source": [
    "df[['IN_IDOSO']] = pd.Series(df['IN_IDOSO'], dtype=\"category\")"
   ]
  },
  {
   "cell_type": "code",
   "execution_count": null,
   "metadata": {},
   "outputs": [],
   "source": [
    "df[['IN_ESTUDA_CLASSE_HOSPITALAR']] = pd.Series(df['IN_ESTUDA_CLASSE_HOSPITALAR'], dtype=\"category\")"
   ]
  },
  {
   "cell_type": "code",
   "execution_count": null,
   "metadata": {},
   "outputs": [],
   "source": [
    "df[['IN_SEM_RECURSO']] = pd.Series(df['IN_SEM_RECURSO'], dtype=\"category\")"
   ]
  },
  {
   "cell_type": "code",
   "execution_count": null,
   "metadata": {},
   "outputs": [],
   "source": [
    "df[['IN_BRAILLE']] = pd.Series(df['IN_BRAILLE'], dtype=\"category\")"
   ]
  },
  {
   "cell_type": "code",
   "execution_count": null,
   "metadata": {},
   "outputs": [],
   "source": [
    "df[['IN_AMPLIADA_24']] = pd.Series(df['IN_AMPLIADA_24'], dtype=\"category\")"
   ]
  },
  {
   "cell_type": "code",
   "execution_count": null,
   "metadata": {},
   "outputs": [],
   "source": [
    "df[['IN_AMPLIADA_18']] = pd.Series(df['IN_AMPLIADA_18'], dtype=\"category\")"
   ]
  },
  {
   "cell_type": "code",
   "execution_count": null,
   "metadata": {},
   "outputs": [],
   "source": [
    "df[['IN_LEDOR']] = pd.Series(df['IN_LEDOR'], dtype=\"category\")"
   ]
  },
  {
   "cell_type": "code",
   "execution_count": null,
   "metadata": {},
   "outputs": [],
   "source": [
    "df[['IN_ACESSO']] = pd.Series(df['IN_ACESSO'], dtype=\"category\")"
   ]
  },
  {
   "cell_type": "code",
   "execution_count": null,
   "metadata": {},
   "outputs": [],
   "source": [
    "df[['IN_TRANSCRICAO']] = pd.Series(df['IN_TRANSCRICAO'], dtype=\"category\")"
   ]
  },
  {
   "cell_type": "code",
   "execution_count": null,
   "metadata": {},
   "outputs": [],
   "source": [
    "df[['IN_LIBRAS']] = pd.Series(df['IN_LIBRAS'], dtype=\"category\")"
   ]
  },
  {
   "cell_type": "code",
   "execution_count": null,
   "metadata": {},
   "outputs": [],
   "source": [
    "df[['IN_LEITURA_LABIAL']] = pd.Series(df['IN_LEITURA_LABIAL'], dtype=\"category\")"
   ]
  },
  {
   "cell_type": "code",
   "execution_count": null,
   "metadata": {},
   "outputs": [],
   "source": [
    "df[['IN_MESA_CADEIRA_RODAS']] = pd.Series(df['IN_MESA_CADEIRA_RODAS'], dtype=\"category\")"
   ]
  },
  {
   "cell_type": "code",
   "execution_count": null,
   "metadata": {},
   "outputs": [],
   "source": [
    "df[['IN_MESA_CADEIRA_SEPARADA']] = pd.Series(df['IN_MESA_CADEIRA_SEPARADA'], dtype=\"category\")"
   ]
  },
  {
   "cell_type": "code",
   "execution_count": null,
   "metadata": {},
   "outputs": [],
   "source": [
    "df[['IN_APOIO_PERNA']] = pd.Series(df['IN_APOIO_PERNA'], dtype=\"category\")"
   ]
  },
  {
   "cell_type": "code",
   "execution_count": null,
   "metadata": {},
   "outputs": [],
   "source": [
    "df[['IN_COMPUTADOR']] = pd.Series(df['IN_COMPUTADOR'], dtype=\"category\")"
   ]
  },
  {
   "cell_type": "code",
   "execution_count": null,
   "metadata": {},
   "outputs": [],
   "source": [
    "df[['IN_CADEIRA_ESPECIAL']] = pd.Series(df['IN_CADEIRA_ESPECIAL'], dtype=\"category\")"
   ]
  },
  {
   "cell_type": "code",
   "execution_count": null,
   "metadata": {},
   "outputs": [],
   "source": [
    "df[['IN_CADEIRA_ACOLCHOADA']] = pd.Series(df['IN_CADEIRA_ACOLCHOADA'], dtype=\"category\")"
   ]
  },
  {
   "cell_type": "code",
   "execution_count": null,
   "metadata": {},
   "outputs": [],
   "source": [
    "df[['IN_PROVA_DEITADO']] = pd.Series(df['IN_PROVA_DEITADO'], dtype=\"category\")"
   ]
  },
  {
   "cell_type": "code",
   "execution_count": null,
   "metadata": {},
   "outputs": [],
   "source": [
    "df[['IN_MOBILIARIO_OBESO']] = pd.Series(df['IN_MOBILIARIO_OBESO'], dtype=\"category\")"
   ]
  },
  {
   "cell_type": "code",
   "execution_count": null,
   "metadata": {},
   "outputs": [],
   "source": [
    "df[['IN_LAMINA_OVERLAY']] = pd.Series(df['IN_LAMINA_OVERLAY'], dtype=\"category\")"
   ]
  },
  {
   "cell_type": "code",
   "execution_count": null,
   "metadata": {},
   "outputs": [],
   "source": [
    "df[['IN_PROTETOR_AURICULAR']] = pd.Series(df['IN_PROTETOR_AURICULAR'], dtype=\"category\")"
   ]
  },
  {
   "cell_type": "code",
   "execution_count": null,
   "metadata": {},
   "outputs": [],
   "source": [
    "df[['IN_MEDIDOR_GLICOSE']] = pd.Series(df['IN_MEDIDOR_GLICOSE'], dtype=\"category\")"
   ]
  },
  {
   "cell_type": "code",
   "execution_count": null,
   "metadata": {},
   "outputs": [],
   "source": [
    "df[['IN_SOROBAN']] = pd.Series(df['IN_SOROBAN'], dtype=\"category\")"
   ]
  },
  {
   "cell_type": "code",
   "execution_count": null,
   "metadata": {},
   "outputs": [],
   "source": [
    "df[['IN_MARCA_PASSO']] = pd.Series(df['IN_MARCA_PASSO'], dtype=\"category\")"
   ]
  },
  {
   "cell_type": "code",
   "execution_count": null,
   "metadata": {},
   "outputs": [],
   "source": [
    "df[['IN_SONDA']] = pd.Series(df['IN_SONDA'], dtype=\"category\")"
   ]
  },
  {
   "cell_type": "code",
   "execution_count": null,
   "metadata": {},
   "outputs": [],
   "source": [
    "df[['IN_MEDICAMENTOS']] = pd.Series(df['IN_MEDICAMENTOS'], dtype=\"category\")"
   ]
  },
  {
   "cell_type": "code",
   "execution_count": null,
   "metadata": {},
   "outputs": [],
   "source": [
    "df[['IN_SALA_INDIVIDUAL']] = pd.Series(df['IN_SALA_INDIVIDUAL'], dtype=\"category\")"
   ]
  },
  {
   "cell_type": "code",
   "execution_count": null,
   "metadata": {},
   "outputs": [],
   "source": [
    "df[['IN_SALA_ESPECIAL']] = pd.Series(df['IN_SALA_ESPECIAL'], dtype=\"category\")"
   ]
  },
  {
   "cell_type": "code",
   "execution_count": null,
   "metadata": {},
   "outputs": [],
   "source": [
    "df[['IN_SALA_ACOMPANHANTE']] = pd.Series(df['IN_SALA_ACOMPANHANTE'], dtype=\"category\")"
   ]
  },
  {
   "cell_type": "code",
   "execution_count": null,
   "metadata": {},
   "outputs": [],
   "source": [
    "df[['IN_MOBILIARIO_ESPECIFICO']] = pd.Series(df['IN_MOBILIARIO_ESPECIFICO'], dtype=\"category\")"
   ]
  },
  {
   "cell_type": "code",
   "execution_count": null,
   "metadata": {},
   "outputs": [],
   "source": [
    "df[['IN_MATERIAL_ESPECIFICO']] = pd.Series(df['IN_MATERIAL_ESPECIFICO'], dtype=\"category\")"
   ]
  },
  {
   "cell_type": "code",
   "execution_count": null,
   "metadata": {},
   "outputs": [],
   "source": [
    "df[['IN_NOME_SOCIAL']] = pd.Series(df['IN_NOME_SOCIAL'], dtype=\"category\")"
   ]
  },
  {
   "cell_type": "code",
   "execution_count": null,
   "metadata": {},
   "outputs": [],
   "source": [
    "df[['CO_MUNICIPIO_PROVA']] = pd.Series(df['CO_MUNICIPIO_PROVA'], dtype=\"category\")\n",
    "df['CO_MUNICIPIO_PROVA_TARGET_ENCODING'] = get_target_encoding(df, 'CO_MUNICIPIO_PROVA', 'NU_NOTA_CN_MAIOR_650', 0)"
   ]
  },
  {
   "cell_type": "code",
   "execution_count": null,
   "metadata": {},
   "outputs": [],
   "source": [
    "df[['CO_UF_PROVA']] = pd.Series(df['CO_UF_PROVA'], dtype=\"category\")\n",
    "df['CO_UF_PROVA_TARGET_ENCODING'] = get_target_encoding(df, 'CO_UF_PROVA', 'NU_NOTA_CN_MAIOR_650', 0)"
   ]
  },
  {
   "cell_type": "code",
   "execution_count": null,
   "metadata": {},
   "outputs": [],
   "source": [
    "#Até que série seu pai, ou o homem responsável por você, estudou?\n",
    "df[['Q001']] = df['Q001'].apply(lambda x: ObtemValorVariavelOrdinaria(x, ['H']))"
   ]
  },
  {
   "cell_type": "code",
   "execution_count": null,
   "metadata": {},
   "outputs": [],
   "source": [
    "#Até que série sua mãe, ou a mulher responsável por você, estudou?\n",
    "df[['Q002']] = df['Q002'].apply(lambda x: ObtemValorVariavelOrdinaria(x, ['H']))"
   ]
  },
  {
   "cell_type": "code",
   "execution_count": null,
   "metadata": {},
   "outputs": [],
   "source": [
    "#A partir da apresentação de algumas ocupações divididas em grupos ordenados, indique o grupo que contempla a ocupação mais próxima da ocupação do seu pai ou do homem responsável por você. (Se ele não estiver trabalhando, escolha uma ocupação pensando no último trabalho dele).\n",
    "df[['Q003']] = pd.Series(df['Q003'], dtype=\"category\")\n",
    "Q003_DUMMIES = pd.get_dummies(df['Q003'], prefix = 'Q003_DUMMIES_')"
   ]
  },
  {
   "cell_type": "code",
   "execution_count": null,
   "metadata": {},
   "outputs": [],
   "source": [
    "#A partir da apresentação de algumas ocupações divididas em grupos ordenados, indique o grupo que contempla a ocupação mais próxima da ocupação da sua mãe ou da mulher responsável por você. (Se ela não estiver trabalhando, escolha uma ocupação pensando no último trabalho dela).\n",
    "df[['Q004']] = pd.Series(df['Q004'], dtype=\"category\")\n",
    "Q004_DUMMIES = pd.get_dummies(df['Q004'], prefix = 'Q004_DUMMIES_')"
   ]
  },
  {
   "cell_type": "code",
   "execution_count": null,
   "metadata": {},
   "outputs": [],
   "source": [
    "#Incluindo você, quantas pessoas moram atualmente em sua residência?\n",
    "df['Q005']"
   ]
  },
  {
   "cell_type": "code",
   "execution_count": null,
   "metadata": {},
   "outputs": [],
   "source": [
    "#Qual é a renda mensal de sua família? (Some a sua renda com a dos seus familiares.)\n",
    "df[['Q006']] = df['Q006'].apply(lambda x: ObtemValorVariavelOrdinaria(x, ['Z']))"
   ]
  },
  {
   "cell_type": "code",
   "execution_count": null,
   "metadata": {},
   "outputs": [],
   "source": [
    "#Em sua residência trabalha empregado(a) doméstico(a)?\n",
    "df[['Q007']] = df['Q007'].apply(lambda x: ObtemValorVariavelOrdinaria(x, ['Z']))"
   ]
  },
  {
   "cell_type": "code",
   "execution_count": null,
   "metadata": {},
   "outputs": [],
   "source": [
    "#Na sua residência tem banheiro?\n",
    "df[['Q008']] = df['Q008'].apply(lambda x: ObtemValorVariavelOrdinaria(x, ['Z']))"
   ]
  },
  {
   "cell_type": "code",
   "execution_count": null,
   "metadata": {},
   "outputs": [],
   "source": [
    "#Na sua residência tem quartos para dormir?\n",
    "df[['Q009']] = df['Q009'].apply(lambda x: ObtemValorVariavelOrdinaria(x, ['Z']))"
   ]
  },
  {
   "cell_type": "code",
   "execution_count": null,
   "metadata": {},
   "outputs": [],
   "source": [
    "#Na sua residência tem carro?\n",
    "df[['Q010']] = df['Q010'].apply(lambda x: ObtemValorVariavelOrdinaria(x, ['Z']))"
   ]
  },
  {
   "cell_type": "code",
   "execution_count": null,
   "metadata": {},
   "outputs": [],
   "source": [
    "#Na sua residência tem motocicleta?\n",
    "df[['Q011']] = pd.Series(df['Q011'], dtype=\"category\") #Ordinal?\n",
    "df[['Q011']] = df['Q011'].apply(lambda x: ObtemValorVariavelOrdinaria(x, ['Z']))"
   ]
  },
  {
   "cell_type": "code",
   "execution_count": null,
   "metadata": {},
   "outputs": [],
   "source": [
    "#Na sua residência tem geladeira?\n",
    "df[['Q012']] = df['Q012'].apply(lambda x: ObtemValorVariavelOrdinaria(x, ['Z']))"
   ]
  },
  {
   "cell_type": "code",
   "execution_count": null,
   "metadata": {},
   "outputs": [],
   "source": [
    "#Na sua residência tem freezer (independente ou segunda porta da geladeira)?\n",
    "df[['Q013']] = df['Q013'].apply(lambda x: ObtemValorVariavelOrdinaria(x, ['Z']))"
   ]
  },
  {
   "cell_type": "code",
   "execution_count": null,
   "metadata": {},
   "outputs": [],
   "source": [
    "#Na sua residência tem máquina de lavar roupa? (o tanquinho NÃO deve ser considerado)\n",
    "df[['Q014']] = df['Q014'].apply(lambda x: ObtemValorVariavelOrdinaria(x, ['Z']))"
   ]
  },
  {
   "cell_type": "code",
   "execution_count": null,
   "metadata": {},
   "outputs": [],
   "source": [
    "#Na sua residência tem máquina de secar roupa (independente ou em conjunto com a máquina de lavar roupa)?\n",
    "df[['Q015']] = df['Q015'].apply(lambda x: ObtemValorVariavelOrdinaria(x, ['Z']))"
   ]
  },
  {
   "cell_type": "code",
   "execution_count": null,
   "metadata": {},
   "outputs": [],
   "source": [
    "#Na sua residência tem forno micro-ondas?\n",
    "df[['Q016']] = df['Q016'].apply(lambda x: ObtemValorVariavelOrdinaria(x, ['Z']))"
   ]
  },
  {
   "cell_type": "code",
   "execution_count": null,
   "metadata": {},
   "outputs": [],
   "source": [
    "#Na sua residência tem máquina de lavar louça?\n",
    "df[['Q017']] = df['Q017'].apply(lambda x: ObtemValorVariavelOrdinaria(x, ['Z']))"
   ]
  },
  {
   "cell_type": "code",
   "execution_count": null,
   "metadata": {},
   "outputs": [],
   "source": [
    "df[['Q018']]"
   ]
  },
  {
   "cell_type": "code",
   "execution_count": null,
   "metadata": {},
   "outputs": [],
   "source": [
    "df['Q018'].apply(lambda x: 0 if x=='A' else 1)"
   ]
  },
  {
   "cell_type": "code",
   "execution_count": null,
   "metadata": {},
   "outputs": [],
   "source": [
    "#Na sua residência tem aspirador de pó?\n",
    "#df[['Q018']] = df[['Q018']].apply(lambda x: ObtemValorVariavelOrdinaria(x, ['Z']))\n",
    "df[['Q018']] = df['Q018'].apply(lambda x: 0 if x=='A' else 1)"
   ]
  },
  {
   "cell_type": "code",
   "execution_count": null,
   "metadata": {},
   "outputs": [],
   "source": [
    "#Na sua residência tem televisão em cores?\n",
    "df[['Q019']] = pd.Series(df['Q019'], dtype=\"category\") #Ordinal? #Irrelevante?"
   ]
  },
  {
   "cell_type": "code",
   "execution_count": null,
   "metadata": {},
   "outputs": [],
   "source": [
    "#Na sua residência tem aparelho de DVD?\n",
    "df[['Q020']] = df['Q020'].apply(lambda x: 0 if x=='A' else 1)"
   ]
  },
  {
   "cell_type": "code",
   "execution_count": null,
   "metadata": {},
   "outputs": [],
   "source": [
    "#Na sua residência tem TV por assinatura?\n",
    "df[['Q021']] = df['Q021'].apply(lambda x: 0 if x=='A' else 1)"
   ]
  },
  {
   "cell_type": "code",
   "execution_count": null,
   "metadata": {},
   "outputs": [],
   "source": [
    "#Na sua residência tem telefone celular?\n",
    "df[['Q022']] = df['Q022'].apply(lambda x: ObtemValorVariavelOrdinaria(x, ['Z']))"
   ]
  },
  {
   "cell_type": "code",
   "execution_count": null,
   "metadata": {},
   "outputs": [],
   "source": [
    "#Na sua residência tem telefone fixo?\n",
    "df[['Q023']] =  df['Q021'].apply(lambda x: 0 if x=='A' else 1)"
   ]
  },
  {
   "cell_type": "code",
   "execution_count": null,
   "metadata": {},
   "outputs": [],
   "source": [
    "#Na sua residência tem computador?\n",
    "df[['Q024']] =  df['Q024'].apply(lambda x: ObtemValorVariavelOrdinaria(x, ['Z']))"
   ]
  },
  {
   "cell_type": "code",
   "execution_count": null,
   "metadata": {},
   "outputs": [],
   "source": [
    "#Na sua residência tem acesso à Internet?\n",
    "df[['Q025']] = df['Q025'].apply(lambda x: 0 if x=='A' else 1)"
   ]
  },
  {
   "cell_type": "code",
   "execution_count": null,
   "metadata": {},
   "outputs": [],
   "source": [
    "#Você já concluiu ou está concluindo o Ensino Médio?\n",
    "df[['Q026']] = pd.Series(df['Q026'], dtype=\"category\")\n",
    "Q026_DUMMIES = pd.get_dummies(df['Q026'], prefix = 'Q026_DUMMIES_')"
   ]
  },
  {
   "cell_type": "code",
   "execution_count": null,
   "metadata": {},
   "outputs": [],
   "source": [
    "#Em que tipo de escola você frequentou o Ensino Médio?\n",
    "df[['Q027']] = pd.Series(df['Q027'], dtype=\"category\")\n",
    "Q027_DUMMIES = pd.get_dummies(df['Q027'], prefix = 'Q027_DUMMIES_')"
   ]
  },
  {
   "cell_type": "code",
   "execution_count": null,
   "metadata": {},
   "outputs": [],
   "source": [
    "df_preparado = df[[\"CO_MUNICIPIO_RESIDENCIA_TARGET_ENCODING\", \n",
    "                   \"CO_UF_RESIDENCIA\", \n",
    "                   \"NU_IDADE\", \n",
    "                   \"TP_SEXO\", \n",
    "                   \"TP_ESTADO_CIVIL\", \n",
    "                   \"TP_COR_RACA\", \n",
    "                   \"TP_NACIONALIDADE\", \n",
    "                   \"CO_MUNICIPIO_NASCIMENTO\", \n",
    "                   \"CO_UF_NASCIMENTO\", \n",
    "                   \"TP_ST_CONCLUSAO\", \n",
    "                   \"TP_ANO_CONCLUIU\", \n",
    "                   \"TP_ESCOLA\",\n",
    "                   \"TP_ENSINO\",\n",
    "                   \"IN_TREINEIRO\",\n",
    "                   \"CO_ESCOLA\",\n",
    "                   \"CO_MUNICIPIO_ESC\",\n",
    "                   \"CO_UF_ESC\",\n",
    "                   \"TP_DEPENDENCIA_ADM_ESC\", \n",
    "                   \"TP_LOCALIZACAO_ESC\",\n",
    "                   \"TP_SIT_FUNC_ESC\",\n",
    "                   \"IN_BAIXA_VISAO\",\n",
    "                   \"IN_CEGUEIRA\",\n",
    "                   \"IN_SURDEZ\",\n",
    "                   \"IN_DEFICIENCIA_AUDITIVA\",\n",
    "                   \"IN_SURDO_CEGUEIRA\",\n",
    "                   \"IN_DEFICIENCIA_FISICA\",\n",
    "                   \"IN_DEFICIENCIA_MENTAL\",\n",
    "                   \"IN_DEFICIT_ATENCAO\",\n",
    "                   \"IN_DISLEXIA\",\n",
    "                   \"IN_DISCALCULIA\",\n",
    "                   \"IN_AUTISMO\",\n",
    "                   \"IN_VISAO_MONOCULAR\",\n",
    "                   \"IN_OUTRA_DEF\",\n",
    "                   \"IN_GESTANTE\",\n",
    "                   \"IN_LACTANTE\", \n",
    "                   \"IN_IDOSO\", \n",
    "                   \"IN_ESTUDA_CLASSE_HOSPITALAR\",\n",
    "                   \"IN_SEM_RECURSO\",\n",
    "                   \"IN_BRAILLE\",\n",
    "                   \"IN_AMPLIADA_24\",\n",
    "                   \"IN_AMPLIADA_18\",\n",
    "                   \"IN_LEDOR\",\n",
    "                   \"IN_ACESSO\",\n",
    "                   \"IN_TRANSCRICAO\",\n",
    "                   \"IN_LIBRAS\",\n",
    "                   \"IN_LEITURA_LABIAL\",\n",
    "                   \"IN_MESA_CADEIRA_RODAS\",\n",
    "                   \"IN_MESA_CADEIRA_SEPARADA\",\n",
    "                   \"IN_APOIO_PERNA\",\n",
    "                   \"IN_GUIA_INTERPRETE\",\n",
    "                   \"IN_COMPUTADOR\",\n",
    "                   \"IN_CADEIRA_ESPECIAL\",\n",
    "                   \"IN_CADEIRA_CANHOTO\",\n",
    "                   \"IN_CADEIRA_ACOLCHOADA\",\n",
    "                   \"IN_PROVA_DEITADO\",\n",
    "                   \"IN_MOBILIARIO_OBESO\",\n",
    "                   \"IN_LAMINA_OVERLAY\",\n",
    "                   \"IN_PROTETOR_AURICULAR\",\n",
    "                   \"IN_MEDIDOR_GLICOSE\",\n",
    "                   \"IN_MAQUINA_BRAILE\",\n",
    "                   \"IN_SOROBAN\",\n",
    "                   \"IN_MARCA_PASSO\",\n",
    "                   \"IN_SONDA\",\n",
    "                   \"IN_MEDICAMENTOS\",\n",
    "                   \"IN_SALA_INDIVIDUAL\", \n",
    "                   \"IN_SALA_ESPECIAL\", \n",
    "                   \"IN_SALA_ACOMPANHANTE\",\n",
    "                   \"IN_MOBILIARIO_ESPECIFICO\",\n",
    "                   \"IN_MATERIAL_ESPECIFICO\",\n",
    "                   \"IN_NOME_SOCIAL\",\n",
    "                   \"CO_MUNICIPIO_PROVA\",\n",
    "                   \"CO_UF_PROVA\",\n",
    "                   \"NU_NOTA_CN\",\n",
    "                   \"NU_NOTA_CH\", \n",
    "                   \"NU_NOTA_LC\",\n",
    "                   \"NU_NOTA_MT\",\n",
    "                   \"Q001\",\n",
    "                   \"Q002\",\n",
    "                   \"Q003\",\n",
    "                   \"Q004\",\n",
    "                   \"Q005\",\n",
    "                   \"Q006\",\n",
    "                   \"Q007\",\n",
    "                   \"Q008\",\n",
    "                   \"Q009\",\n",
    "                   \"Q010\",\n",
    "                   \"Q011\",\n",
    "                   \"Q012\",\n",
    "                   \"Q013\",\n",
    "                   \"Q014\",\n",
    "                   \"Q015\",\n",
    "                   \"Q016\",\n",
    "                   \"Q017\",\n",
    "                   \"Q018\",\n",
    "                   \"Q019\",\n",
    "                   \"Q020\",\n",
    "                   \"Q021\",\n",
    "                   \"Q022\",\n",
    "                   \"Q023\",\n",
    "                   \"Q024\",\n",
    "                   \"Q025\",\n",
    "                   \"Q026\",\n",
    "                   \"Q027\",\n",
    "                   \"NU_NOTA_CN_MAIOR_650\",\n",
    "                   \"NU_NOTA_CH_MAIOR_650\",\n",
    "                   \"NU_NOTA_LC_MAIOR_650\",\n",
    "                   \"NU_NOTA_MT_MAIOR_650\"]]\n",
    "#df_preparado.head(588)"
   ]
  },
  {
   "cell_type": "code",
   "execution_count": 36,
   "metadata": {},
   "outputs": [
    {
     "data": {
      "text/html": [
       "<div>\n",
       "<style scoped>\n",
       "    .dataframe tbody tr th:only-of-type {\n",
       "        vertical-align: middle;\n",
       "    }\n",
       "\n",
       "    .dataframe tbody tr th {\n",
       "        vertical-align: top;\n",
       "    }\n",
       "\n",
       "    .dataframe thead th {\n",
       "        text-align: right;\n",
       "    }\n",
       "</style>\n",
       "<table border=\"1\" class=\"dataframe\">\n",
       "  <thead>\n",
       "    <tr style=\"text-align: right;\">\n",
       "      <th></th>\n",
       "      <th>NU_INSCRICAO</th>\n",
       "      <th>NU_ANO</th>\n",
       "      <th>CO_MUNICIPIO_RESIDENCIA</th>\n",
       "      <th>NO_MUNICIPIO_RESIDENCIA</th>\n",
       "      <th>CO_UF_RESIDENCIA</th>\n",
       "      <th>SG_UF_RESIDENCIA</th>\n",
       "      <th>NU_IDADE</th>\n",
       "      <th>TP_SEXO</th>\n",
       "      <th>TP_ESTADO_CIVIL</th>\n",
       "      <th>TP_COR_RACA</th>\n",
       "      <th>...</th>\n",
       "      <th>SG_UF_RESIDENCIA_DUMMIES__PR</th>\n",
       "      <th>SG_UF_RESIDENCIA_DUMMIES__RJ</th>\n",
       "      <th>SG_UF_RESIDENCIA_DUMMIES__RN</th>\n",
       "      <th>SG_UF_RESIDENCIA_DUMMIES__RO</th>\n",
       "      <th>SG_UF_RESIDENCIA_DUMMIES__RR</th>\n",
       "      <th>SG_UF_RESIDENCIA_DUMMIES__RS</th>\n",
       "      <th>SG_UF_RESIDENCIA_DUMMIES__SC</th>\n",
       "      <th>SG_UF_RESIDENCIA_DUMMIES__SE</th>\n",
       "      <th>SG_UF_RESIDENCIA_DUMMIES__SP</th>\n",
       "      <th>SG_UF_RESIDENCIA_DUMMIES__TO</th>\n",
       "    </tr>\n",
       "  </thead>\n",
       "  <tbody>\n",
       "    <tr>\n",
       "      <td>0</td>\n",
       "      <td>170005778262</td>\n",
       "      <td>2017</td>\n",
       "      <td>2108900</td>\n",
       "      <td>Poção de Pedras</td>\n",
       "      <td>21</td>\n",
       "      <td>MA</td>\n",
       "      <td>20.0</td>\n",
       "      <td>M</td>\n",
       "      <td>0.0</td>\n",
       "      <td>3</td>\n",
       "      <td>...</td>\n",
       "      <td>0</td>\n",
       "      <td>0</td>\n",
       "      <td>0</td>\n",
       "      <td>0</td>\n",
       "      <td>0</td>\n",
       "      <td>0</td>\n",
       "      <td>0</td>\n",
       "      <td>0</td>\n",
       "      <td>0</td>\n",
       "      <td>0</td>\n",
       "    </tr>\n",
       "    <tr>\n",
       "      <td>1</td>\n",
       "      <td>170003822638</td>\n",
       "      <td>2017</td>\n",
       "      <td>2604007</td>\n",
       "      <td>Carpina</td>\n",
       "      <td>26</td>\n",
       "      <td>PE</td>\n",
       "      <td>17.0</td>\n",
       "      <td>M</td>\n",
       "      <td>0.0</td>\n",
       "      <td>1</td>\n",
       "      <td>...</td>\n",
       "      <td>0</td>\n",
       "      <td>0</td>\n",
       "      <td>0</td>\n",
       "      <td>0</td>\n",
       "      <td>0</td>\n",
       "      <td>0</td>\n",
       "      <td>0</td>\n",
       "      <td>0</td>\n",
       "      <td>0</td>\n",
       "      <td>0</td>\n",
       "    </tr>\n",
       "    <tr>\n",
       "      <td>2</td>\n",
       "      <td>170005713640</td>\n",
       "      <td>2017</td>\n",
       "      <td>2512762</td>\n",
       "      <td>Riachão do Poço</td>\n",
       "      <td>25</td>\n",
       "      <td>PB</td>\n",
       "      <td>17.0</td>\n",
       "      <td>F</td>\n",
       "      <td>0.0</td>\n",
       "      <td>3</td>\n",
       "      <td>...</td>\n",
       "      <td>0</td>\n",
       "      <td>0</td>\n",
       "      <td>0</td>\n",
       "      <td>0</td>\n",
       "      <td>0</td>\n",
       "      <td>0</td>\n",
       "      <td>0</td>\n",
       "      <td>0</td>\n",
       "      <td>0</td>\n",
       "      <td>0</td>\n",
       "    </tr>\n",
       "    <tr>\n",
       "      <td>3</td>\n",
       "      <td>170000323750</td>\n",
       "      <td>2017</td>\n",
       "      <td>4106902</td>\n",
       "      <td>Curitiba</td>\n",
       "      <td>41</td>\n",
       "      <td>PR</td>\n",
       "      <td>22.0</td>\n",
       "      <td>M</td>\n",
       "      <td>0.0</td>\n",
       "      <td>1</td>\n",
       "      <td>...</td>\n",
       "      <td>1</td>\n",
       "      <td>0</td>\n",
       "      <td>0</td>\n",
       "      <td>0</td>\n",
       "      <td>0</td>\n",
       "      <td>0</td>\n",
       "      <td>0</td>\n",
       "      <td>0</td>\n",
       "      <td>0</td>\n",
       "      <td>0</td>\n",
       "    </tr>\n",
       "    <tr>\n",
       "      <td>4</td>\n",
       "      <td>170000783745</td>\n",
       "      <td>2017</td>\n",
       "      <td>3303906</td>\n",
       "      <td>Petrópolis</td>\n",
       "      <td>33</td>\n",
       "      <td>RJ</td>\n",
       "      <td>18.0</td>\n",
       "      <td>F</td>\n",
       "      <td>0.0</td>\n",
       "      <td>1</td>\n",
       "      <td>...</td>\n",
       "      <td>0</td>\n",
       "      <td>1</td>\n",
       "      <td>0</td>\n",
       "      <td>0</td>\n",
       "      <td>0</td>\n",
       "      <td>0</td>\n",
       "      <td>0</td>\n",
       "      <td>0</td>\n",
       "      <td>0</td>\n",
       "      <td>0</td>\n",
       "    </tr>\n",
       "    <tr>\n",
       "      <td>...</td>\n",
       "      <td>...</td>\n",
       "      <td>...</td>\n",
       "      <td>...</td>\n",
       "      <td>...</td>\n",
       "      <td>...</td>\n",
       "      <td>...</td>\n",
       "      <td>...</td>\n",
       "      <td>...</td>\n",
       "      <td>...</td>\n",
       "      <td>...</td>\n",
       "      <td>...</td>\n",
       "      <td>...</td>\n",
       "      <td>...</td>\n",
       "      <td>...</td>\n",
       "      <td>...</td>\n",
       "      <td>...</td>\n",
       "      <td>...</td>\n",
       "      <td>...</td>\n",
       "      <td>...</td>\n",
       "      <td>...</td>\n",
       "      <td>...</td>\n",
       "    </tr>\n",
       "    <tr>\n",
       "      <td>176885</td>\n",
       "      <td>170002008622</td>\n",
       "      <td>2017</td>\n",
       "      <td>2908200</td>\n",
       "      <td>Conceição da Feira</td>\n",
       "      <td>29</td>\n",
       "      <td>BA</td>\n",
       "      <td>28.0</td>\n",
       "      <td>M</td>\n",
       "      <td>1.0</td>\n",
       "      <td>2</td>\n",
       "      <td>...</td>\n",
       "      <td>0</td>\n",
       "      <td>0</td>\n",
       "      <td>0</td>\n",
       "      <td>0</td>\n",
       "      <td>0</td>\n",
       "      <td>0</td>\n",
       "      <td>0</td>\n",
       "      <td>0</td>\n",
       "      <td>0</td>\n",
       "      <td>0</td>\n",
       "    </tr>\n",
       "    <tr>\n",
       "      <td>176886</td>\n",
       "      <td>170002160908</td>\n",
       "      <td>2017</td>\n",
       "      <td>4311403</td>\n",
       "      <td>Lajeado</td>\n",
       "      <td>43</td>\n",
       "      <td>RS</td>\n",
       "      <td>17.0</td>\n",
       "      <td>M</td>\n",
       "      <td>0.0</td>\n",
       "      <td>1</td>\n",
       "      <td>...</td>\n",
       "      <td>0</td>\n",
       "      <td>0</td>\n",
       "      <td>0</td>\n",
       "      <td>0</td>\n",
       "      <td>0</td>\n",
       "      <td>1</td>\n",
       "      <td>0</td>\n",
       "      <td>0</td>\n",
       "      <td>0</td>\n",
       "      <td>0</td>\n",
       "    </tr>\n",
       "    <tr>\n",
       "      <td>176887</td>\n",
       "      <td>170002418212</td>\n",
       "      <td>2017</td>\n",
       "      <td>2408003</td>\n",
       "      <td>Mossoró</td>\n",
       "      <td>24</td>\n",
       "      <td>RN</td>\n",
       "      <td>23.0</td>\n",
       "      <td>F</td>\n",
       "      <td>0.0</td>\n",
       "      <td>2</td>\n",
       "      <td>...</td>\n",
       "      <td>0</td>\n",
       "      <td>0</td>\n",
       "      <td>1</td>\n",
       "      <td>0</td>\n",
       "      <td>0</td>\n",
       "      <td>0</td>\n",
       "      <td>0</td>\n",
       "      <td>0</td>\n",
       "      <td>0</td>\n",
       "      <td>0</td>\n",
       "    </tr>\n",
       "    <tr>\n",
       "      <td>176888</td>\n",
       "      <td>170004957143</td>\n",
       "      <td>2017</td>\n",
       "      <td>2607901</td>\n",
       "      <td>Jaboatão dos Guararapes</td>\n",
       "      <td>26</td>\n",
       "      <td>PE</td>\n",
       "      <td>57.0</td>\n",
       "      <td>M</td>\n",
       "      <td>2.0</td>\n",
       "      <td>3</td>\n",
       "      <td>...</td>\n",
       "      <td>0</td>\n",
       "      <td>0</td>\n",
       "      <td>0</td>\n",
       "      <td>0</td>\n",
       "      <td>0</td>\n",
       "      <td>0</td>\n",
       "      <td>0</td>\n",
       "      <td>0</td>\n",
       "      <td>0</td>\n",
       "      <td>0</td>\n",
       "    </tr>\n",
       "    <tr>\n",
       "      <td>176889</td>\n",
       "      <td>170003848299</td>\n",
       "      <td>2017</td>\n",
       "      <td>3113404</td>\n",
       "      <td>Caratinga</td>\n",
       "      <td>31</td>\n",
       "      <td>MG</td>\n",
       "      <td>24.0</td>\n",
       "      <td>M</td>\n",
       "      <td>1.0</td>\n",
       "      <td>2</td>\n",
       "      <td>...</td>\n",
       "      <td>0</td>\n",
       "      <td>0</td>\n",
       "      <td>0</td>\n",
       "      <td>0</td>\n",
       "      <td>0</td>\n",
       "      <td>0</td>\n",
       "      <td>0</td>\n",
       "      <td>0</td>\n",
       "      <td>0</td>\n",
       "      <td>0</td>\n",
       "    </tr>\n",
       "  </tbody>\n",
       "</table>\n",
       "<p>176890 rows × 172 columns</p>\n",
       "</div>"
      ],
      "text/plain": [
       "        NU_INSCRICAO  NU_ANO  CO_MUNICIPIO_RESIDENCIA  \\\n",
       "0       170005778262    2017                  2108900   \n",
       "1       170003822638    2017                  2604007   \n",
       "2       170005713640    2017                  2512762   \n",
       "3       170000323750    2017                  4106902   \n",
       "4       170000783745    2017                  3303906   \n",
       "...              ...     ...                      ...   \n",
       "176885  170002008622    2017                  2908200   \n",
       "176886  170002160908    2017                  4311403   \n",
       "176887  170002418212    2017                  2408003   \n",
       "176888  170004957143    2017                  2607901   \n",
       "176889  170003848299    2017                  3113404   \n",
       "\n",
       "        NO_MUNICIPIO_RESIDENCIA  CO_UF_RESIDENCIA SG_UF_RESIDENCIA  NU_IDADE  \\\n",
       "0               Poção de Pedras                21               MA      20.0   \n",
       "1                       Carpina                26               PE      17.0   \n",
       "2               Riachão do Poço                25               PB      17.0   \n",
       "3                      Curitiba                41               PR      22.0   \n",
       "4                    Petrópolis                33               RJ      18.0   \n",
       "...                         ...               ...              ...       ...   \n",
       "176885       Conceição da Feira                29               BA      28.0   \n",
       "176886                  Lajeado                43               RS      17.0   \n",
       "176887                  Mossoró                24               RN      23.0   \n",
       "176888  Jaboatão dos Guararapes                26               PE      57.0   \n",
       "176889                Caratinga                31               MG      24.0   \n",
       "\n",
       "       TP_SEXO  TP_ESTADO_CIVIL  TP_COR_RACA  ...  \\\n",
       "0            M              0.0            3  ...   \n",
       "1            M              0.0            1  ...   \n",
       "2            F              0.0            3  ...   \n",
       "3            M              0.0            1  ...   \n",
       "4            F              0.0            1  ...   \n",
       "...        ...              ...          ...  ...   \n",
       "176885       M              1.0            2  ...   \n",
       "176886       M              0.0            1  ...   \n",
       "176887       F              0.0            2  ...   \n",
       "176888       M              2.0            3  ...   \n",
       "176889       M              1.0            2  ...   \n",
       "\n",
       "        SG_UF_RESIDENCIA_DUMMIES__PR  SG_UF_RESIDENCIA_DUMMIES__RJ  \\\n",
       "0                                  0                             0   \n",
       "1                                  0                             0   \n",
       "2                                  0                             0   \n",
       "3                                  1                             0   \n",
       "4                                  0                             1   \n",
       "...                              ...                           ...   \n",
       "176885                             0                             0   \n",
       "176886                             0                             0   \n",
       "176887                             0                             0   \n",
       "176888                             0                             0   \n",
       "176889                             0                             0   \n",
       "\n",
       "       SG_UF_RESIDENCIA_DUMMIES__RN  SG_UF_RESIDENCIA_DUMMIES__RO  \\\n",
       "0                                 0                             0   \n",
       "1                                 0                             0   \n",
       "2                                 0                             0   \n",
       "3                                 0                             0   \n",
       "4                                 0                             0   \n",
       "...                             ...                           ...   \n",
       "176885                            0                             0   \n",
       "176886                            0                             0   \n",
       "176887                            1                             0   \n",
       "176888                            0                             0   \n",
       "176889                            0                             0   \n",
       "\n",
       "       SG_UF_RESIDENCIA_DUMMIES__RR  SG_UF_RESIDENCIA_DUMMIES__RS  \\\n",
       "0                                 0                             0   \n",
       "1                                 0                             0   \n",
       "2                                 0                             0   \n",
       "3                                 0                             0   \n",
       "4                                 0                             0   \n",
       "...                             ...                           ...   \n",
       "176885                            0                             0   \n",
       "176886                            0                             1   \n",
       "176887                            0                             0   \n",
       "176888                            0                             0   \n",
       "176889                            0                             0   \n",
       "\n",
       "        SG_UF_RESIDENCIA_DUMMIES__SC  SG_UF_RESIDENCIA_DUMMIES__SE  \\\n",
       "0                                  0                             0   \n",
       "1                                  0                             0   \n",
       "2                                  0                             0   \n",
       "3                                  0                             0   \n",
       "4                                  0                             0   \n",
       "...                              ...                           ...   \n",
       "176885                             0                             0   \n",
       "176886                             0                             0   \n",
       "176887                             0                             0   \n",
       "176888                             0                             0   \n",
       "176889                             0                             0   \n",
       "\n",
       "        SG_UF_RESIDENCIA_DUMMIES__SP  SG_UF_RESIDENCIA_DUMMIES__TO  \n",
       "0                                  0                             0  \n",
       "1                                  0                             0  \n",
       "2                                  0                             0  \n",
       "3                                  0                             0  \n",
       "4                                  0                             0  \n",
       "...                              ...                           ...  \n",
       "176885                             0                             0  \n",
       "176886                             0                             0  \n",
       "176887                             0                             0  \n",
       "176888                             0                             0  \n",
       "176889                             0                             0  \n",
       "\n",
       "[176890 rows x 172 columns]"
      ]
     },
     "execution_count": 36,
     "metadata": {},
     "output_type": "execute_result"
    }
   ],
   "source": [
    "df = pd.concat([df,\n",
    "                SG_UF_RESIDENCIA_DUMMIES,\n",
    "                SG_UF_RESIDENCIA_DUMMIES], axis=1)\n",
    "df"
   ]
  },
  {
   "cell_type": "code",
   "execution_count": null,
   "metadata": {},
   "outputs": [],
   "source": [
    "t = ''\n",
    "for c in df.columns:\n",
    "    t = t + ', \"' + c + '\"'\n",
    "\n",
    "print(t)"
   ]
  },
  {
   "cell_type": "code",
   "execution_count": null,
   "metadata": {},
   "outputs": [],
   "source": [
    "pd.get_dummies(df_preparado['CO_MUNICIPIO_RESIDENCIA'])"
   ]
  },
  {
   "cell_type": "code",
   "execution_count": null,
   "metadata": {},
   "outputs": [],
   "source": [
    "type(ce.CatBoostEncoder(df_preparado['CO_MUNICIPIO_RESIDENCIA', 'NU_NOTA_CN']))"
   ]
  },
  {
   "cell_type": "code",
   "execution_count": null,
   "metadata": {
    "scrolled": true
   },
   "outputs": [],
   "source": [
    "cat = ce.CatBoostEncoder()\n",
    "cat.fit(df_preparado['CO_MUNICIPIO_RESIDENCIA'], df_preparado['NU_NOTA_CN'])\n",
    "CO_MUNICIPIO_RESIDENCIA_CAT = cat.transform(df_preparado['CO_MUNICIPIO_RESIDENCIA'])"
   ]
  },
  {
   "cell_type": "code",
   "execution_count": null,
   "metadata": {
    "scrolled": true
   },
   "outputs": [],
   "source": [
    "type(CO_MUNICIPIO_RESIDENCIA_CAT)\n",
    "CO_MUNICIPIO_RESIDENCIA_CAT.CO_MUNICIPIO_RESIDENCIA"
   ]
  },
  {
   "cell_type": "code",
   "execution_count": null,
   "metadata": {},
   "outputs": [],
   "source": [
    "CO_MUNICIPIO_RESIDENCIA_CAT.info()"
   ]
  },
  {
   "cell_type": "code",
   "execution_count": null,
   "metadata": {},
   "outputs": [],
   "source": [
    "df_preparado[['CO_MUNICIPIO_RESIDENCIA']]"
   ]
  },
  {
   "cell_type": "code",
   "execution_count": null,
   "metadata": {},
   "outputs": [],
   "source": [
    "print(df_preparado.info(verbose=True))"
   ]
  },
  {
   "cell_type": "code",
   "execution_count": null,
   "metadata": {},
   "outputs": [],
   "source": [
    "df1 = df.iloc[1:20,0:].copy()"
   ]
  },
  {
   "cell_type": "code",
   "execution_count": null,
   "metadata": {},
   "outputs": [],
   "source": [
    "df_filtrado = df.iloc[1:20,0:].copy()"
   ]
  },
  {
   "cell_type": "code",
   "execution_count": null,
   "metadata": {},
   "outputs": [],
   "source": [
    "df['CO_MUNICIPIO_RESIDENCIA'] = pd.Series(df['CO_MUNICIPIO_RESIDENCIA'], dtype=\"category\")"
   ]
  },
  {
   "cell_type": "code",
   "execution_count": null,
   "metadata": {},
   "outputs": [],
   "source": [
    "df['CO_MUNICIPIO_RESIDENCIA']"
   ]
  },
  {
   "cell_type": "code",
   "execution_count": null,
   "metadata": {},
   "outputs": [],
   "source": [
    "pd.Series(df['CO_MUNICIPIO_RESIDENCIA'], dtype=\"category\")"
   ]
  },
  {
   "cell_type": "code",
   "execution_count": null,
   "metadata": {},
   "outputs": [],
   "source": []
  }
 ],
 "metadata": {
  "kernelspec": {
   "display_name": "Python 3",
   "language": "python",
   "name": "python3"
  },
  "language_info": {
   "codemirror_mode": {
    "name": "ipython",
    "version": 3
   },
   "file_extension": ".py",
   "mimetype": "text/x-python",
   "name": "python",
   "nbconvert_exporter": "python",
   "pygments_lexer": "ipython3",
   "version": "3.7.4"
  }
 },
 "nbformat": 4,
 "nbformat_minor": 2
}
