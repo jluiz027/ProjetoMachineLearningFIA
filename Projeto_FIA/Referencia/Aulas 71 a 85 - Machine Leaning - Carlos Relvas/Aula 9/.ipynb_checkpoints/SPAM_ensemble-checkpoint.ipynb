{
 "cells": [
  {
   "cell_type": "code",
   "execution_count": 1,
   "metadata": {
    "collapsed": true
   },
   "outputs": [],
   "source": [
    "import pandas as pd\n",
    "import numpy as np\n",
    "import sklearn as sk\n",
    "import matplotlib.pyplot as plt\n",
    "%matplotlib inline"
   ]
  },
  {
   "cell_type": "code",
   "execution_count": 2,
   "metadata": {
    "collapsed": true
   },
   "outputs": [],
   "source": [
    "spam = pd.read_csv(\"spambase.data\", header=None)"
   ]
  },
  {
   "cell_type": "code",
   "execution_count": 3,
   "metadata": {
    "collapsed": true
   },
   "outputs": [],
   "source": [
    "from sklearn.model_selection import train_test_split\n",
    "X = spam.loc[:,0:56]\n",
    "y = spam.loc[:,57]\n",
    "X_train, X_test, y_train, y_test = train_test_split(X, y, test_size=0.3)"
   ]
  },
  {
   "cell_type": "markdown",
   "metadata": {},
   "source": [
    "## Voting"
   ]
  },
  {
   "cell_type": "code",
   "execution_count": 4,
   "metadata": {},
   "outputs": [
    {
     "name": "stdout",
     "output_type": "stream",
     "text": [
      "Accuracy: 0.92 (+/- 0.01) [Logistic Regression]\n",
      "Accuracy: 0.94 (+/- 0.01) [Random Forest]\n",
      "Accuracy: 0.95 (+/- 0.01) [Boosting]\n",
      "Accuracy: 0.95 (+/- 0.01) [Ensemble]\n"
     ]
    }
   ],
   "source": [
    "from sklearn import datasets\n",
    "from sklearn.model_selection import cross_val_score\n",
    "from sklearn.linear_model import LogisticRegression\n",
    "from sklearn.ensemble import RandomForestClassifier\n",
    "from sklearn.ensemble import GradientBoostingClassifier\n",
    "from sklearn.ensemble import VotingClassifier\n",
    "\n",
    "clf1 = LogisticRegression(random_state=1)\n",
    "clf2 = RandomForestClassifier(random_state=1)\n",
    "clf3 = GradientBoostingClassifier(random_state=1)\n",
    "\n",
    "eclf = VotingClassifier(estimators=[('lr', clf1), ('rf', clf2), ('gnb', clf3)], voting='hard')\n",
    "\n",
    "for clf, label in zip([clf1, clf2, clf3, eclf], ['Logistic Regression', 'Random Forest', 'Boosting', 'Ensemble']):\n",
    "    scores = cross_val_score(clf, X_train, y_train, cv=5, scoring='accuracy')\n",
    "    print(\"Accuracy: %0.2f (+/- %0.2f) [%s]\" % (scores.mean(), scores.std(), label))"
   ]
  },
  {
   "cell_type": "code",
   "execution_count": 7,
   "metadata": {},
   "outputs": [
    {
     "data": {
      "text/plain": [
       "0.94424330195510497"
      ]
     },
     "execution_count": 7,
     "metadata": {},
     "output_type": "execute_result"
    }
   ],
   "source": [
    "from sklearn.metrics import accuracy_score\n",
    "eclf.fit(X_train, y_train)\n",
    "accuracy_score(y_test, eclf.predict(X_test))"
   ]
  },
  {
   "cell_type": "markdown",
   "metadata": {},
   "source": [
    "## Soft Voting"
   ]
  },
  {
   "cell_type": "code",
   "execution_count": 8,
   "metadata": {},
   "outputs": [
    {
     "name": "stdout",
     "output_type": "stream",
     "text": [
      "Accuracy: 0.90 (+/- 0.01) [Decision Tree]\n",
      "Accuracy: 0.94 (+/- 0.01) [RF]\n",
      "Accuracy: 0.95 (+/- 0.01) [SVM]\n",
      "Accuracy: 0.94 (+/- 0.01) [Ensemble]\n"
     ]
    }
   ],
   "source": [
    "from sklearn import datasets\n",
    "from sklearn.tree import DecisionTreeClassifier\n",
    "from sklearn.neighbors import KNeighborsClassifier\n",
    "from sklearn.svm import SVC\n",
    "from itertools import product\n",
    "from sklearn.ensemble import VotingClassifier\n",
    "\n",
    "# Training classifiers\n",
    "clf1 = DecisionTreeClassifier(max_depth=4)\n",
    "clf2 = RandomForestClassifier(random_state=1)\n",
    "clf3 = GradientBoostingClassifier(random_state=1)\n",
    "eclf = VotingClassifier(estimators=[('dt', clf1), ('knn', clf2), ('svc', clf3)], voting='soft', weights=[1,3,3])\n",
    "\n",
    "for clf, label in zip([clf1, clf2, clf3, eclf], ['Decision Tree', 'RF', 'SVM', 'Ensemble']):\n",
    "    scores = cross_val_score(clf, X_train, y_train, cv=5, scoring='accuracy')\n",
    "    print(\"Accuracy: %0.2f (+/- %0.2f) [%s]\" % (scores.mean(), scores.std(), label))"
   ]
  },
  {
   "cell_type": "code",
   "execution_count": 9,
   "metadata": {},
   "outputs": [
    {
     "data": {
      "text/plain": [
       "0.94207096307023896"
      ]
     },
     "execution_count": 9,
     "metadata": {},
     "output_type": "execute_result"
    }
   ],
   "source": [
    "from sklearn.metrics import accuracy_score\n",
    "eclf.fit(X_train, y_train)\n",
    "accuracy_score(y_test, eclf.predict(X_test))"
   ]
  },
  {
   "cell_type": "markdown",
   "metadata": {},
   "source": [
    "## Soft Voting with Grid Search"
   ]
  },
  {
   "cell_type": "code",
   "execution_count": 11,
   "metadata": {},
   "outputs": [],
   "source": [
    "from sklearn.model_selection import GridSearchCV\n",
    "clf1 = LogisticRegression(random_state=1)\n",
    "clf2 = RandomForestClassifier(random_state=1)\n",
    "clf3 = GradientBoostingClassifier(random_state=1)\n",
    "eclf = VotingClassifier(estimators=[('lr', clf1), ('rf', clf2), ('gnb', clf3)], voting='soft')\n",
    "\n",
    "params = {'lr__C': [1.0, 100.0], 'rf__n_estimators': [20, 200],'gnb': [0.01, 0.1]}\n",
    "\n",
    "grid = GridSearchCV(estimator=eclf, param_grid=params, cv=5, scoring='accuracy')\n",
    "grid = grid.fit(X_train, y_train)"
   ]
  },
  {
   "cell_type": "code",
   "execution_count": 12,
   "metadata": {},
   "outputs": [
    {
     "name": "stdout",
     "output_type": "stream",
     "text": [
      "Accuracy: 0.947\n"
     ]
    }
   ],
   "source": [
    "print(\"Accuracy: %0.3f\" % (grid.best_score_)) "
   ]
  },
  {
   "cell_type": "code",
   "execution_count": 13,
   "metadata": {},
   "outputs": [
    {
     "data": {
      "text/plain": [
       "0.95365677045619113"
      ]
     },
     "execution_count": 13,
     "metadata": {},
     "output_type": "execute_result"
    }
   ],
   "source": [
    "from sklearn.metrics import accuracy_score\n",
    "accuracy_score(y_test, grid.predict(X_test))"
   ]
  },
  {
   "cell_type": "markdown",
   "metadata": {},
   "source": [
    "## Stacking"
   ]
  },
  {
   "cell_type": "code",
   "execution_count": 14,
   "metadata": {},
   "outputs": [
    {
     "name": "stdout",
     "output_type": "stream",
     "text": [
      "3-fold cross validation:\n",
      "\n",
      "Accuracy: 0.90 (+/- 0.02) [Logistic]\n",
      "Accuracy: 0.93 (+/- 0.03) [Random Forest]\n",
      "Accuracy: 0.93 (+/- 0.02) [Boosting]\n",
      "Accuracy: 0.93 (+/- 0.03) [StackingClassifier]\n"
     ]
    }
   ],
   "source": [
    "from sklearn import model_selection\n",
    "from sklearn.linear_model import LogisticRegression\n",
    "from sklearn.neighbors import KNeighborsClassifier\n",
    "from sklearn.naive_bayes import GaussianNB \n",
    "from sklearn.ensemble import RandomForestClassifier\n",
    "from mlxtend.classifier import StackingClassifier\n",
    "import numpy as np\n",
    "\n",
    "clf1 = LogisticRegression(random_state=1)\n",
    "clf2 = RandomForestClassifier(random_state=1)\n",
    "clf3 = GradientBoostingClassifier(random_state=1)\n",
    "lr = LogisticRegression()\n",
    "sclf = StackingClassifier(classifiers=[clf1, clf2, clf3], \n",
    "                          meta_classifier=lr)\n",
    "\n",
    "print('3-fold cross validation:\\n')\n",
    "\n",
    "for clf, label in zip([clf1, clf2, clf3, sclf], \n",
    "                      ['Logistic', \n",
    "                       'Random Forest', \n",
    "                       'Boosting',\n",
    "                       'StackingClassifier']):\n",
    "\n",
    "    scores = model_selection.cross_val_score(clf, X, y, \n",
    "                                              cv=3, scoring='accuracy')\n",
    "    print(\"Accuracy: %0.2f (+/- %0.2f) [%s]\" \n",
    "          % (scores.mean(), scores.std(), label))"
   ]
  },
  {
   "cell_type": "code",
   "execution_count": 15,
   "metadata": {},
   "outputs": [
    {
     "data": {
      "text/plain": [
       "0.93482983345401882"
      ]
     },
     "execution_count": 15,
     "metadata": {},
     "output_type": "execute_result"
    }
   ],
   "source": [
    "from sklearn.metrics import accuracy_score\n",
    "sclf.fit(X_train, y_train)\n",
    "accuracy_score(y_test, sclf.predict(X_test))"
   ]
  },
  {
   "cell_type": "code",
   "execution_count": 16,
   "metadata": {},
   "outputs": [
    {
     "name": "stdout",
     "output_type": "stream",
     "text": [
      "0.950 +/- 0.00 {'gradientboostingclassifier__learning_rate': 0.01, 'meta-logisticregression__C': 0.1, 'extratreesclassifier__n_estimators': 50, 'randomforestclassifier__n_estimators': 50}\n",
      "0.952 +/- 0.00 {'gradientboostingclassifier__learning_rate': 0.01, 'meta-logisticregression__C': 0.1, 'extratreesclassifier__n_estimators': 50, 'randomforestclassifier__n_estimators': 100}\n",
      "0.952 +/- 0.00 {'gradientboostingclassifier__learning_rate': 0.01, 'meta-logisticregression__C': 10.0, 'extratreesclassifier__n_estimators': 50, 'randomforestclassifier__n_estimators': 50}\n",
      "0.951 +/- 0.00 {'gradientboostingclassifier__learning_rate': 0.01, 'meta-logisticregression__C': 10.0, 'extratreesclassifier__n_estimators': 50, 'randomforestclassifier__n_estimators': 100}\n",
      "0.950 +/- 0.00 {'gradientboostingclassifier__learning_rate': 0.1, 'meta-logisticregression__C': 0.1, 'extratreesclassifier__n_estimators': 50, 'randomforestclassifier__n_estimators': 50}\n",
      "0.952 +/- 0.00 {'gradientboostingclassifier__learning_rate': 0.1, 'meta-logisticregression__C': 0.1, 'extratreesclassifier__n_estimators': 50, 'randomforestclassifier__n_estimators': 100}\n",
      "0.950 +/- 0.00 {'gradientboostingclassifier__learning_rate': 0.1, 'meta-logisticregression__C': 10.0, 'extratreesclassifier__n_estimators': 50, 'randomforestclassifier__n_estimators': 50}\n",
      "0.951 +/- 0.00 {'gradientboostingclassifier__learning_rate': 0.1, 'meta-logisticregression__C': 10.0, 'extratreesclassifier__n_estimators': 50, 'randomforestclassifier__n_estimators': 100}\n",
      "0.950 +/- 0.00 {'gradientboostingclassifier__learning_rate': 0.01, 'meta-logisticregression__C': 0.1, 'extratreesclassifier__n_estimators': 100, 'randomforestclassifier__n_estimators': 50}\n",
      "0.951 +/- 0.00 {'gradientboostingclassifier__learning_rate': 0.01, 'meta-logisticregression__C': 0.1, 'extratreesclassifier__n_estimators': 100, 'randomforestclassifier__n_estimators': 100}\n",
      "0.952 +/- 0.00 {'gradientboostingclassifier__learning_rate': 0.01, 'meta-logisticregression__C': 10.0, 'extratreesclassifier__n_estimators': 100, 'randomforestclassifier__n_estimators': 50}\n",
      "0.951 +/- 0.00 {'gradientboostingclassifier__learning_rate': 0.01, 'meta-logisticregression__C': 10.0, 'extratreesclassifier__n_estimators': 100, 'randomforestclassifier__n_estimators': 100}\n",
      "0.950 +/- 0.00 {'gradientboostingclassifier__learning_rate': 0.1, 'meta-logisticregression__C': 0.1, 'extratreesclassifier__n_estimators': 100, 'randomforestclassifier__n_estimators': 50}\n",
      "0.952 +/- 0.00 {'gradientboostingclassifier__learning_rate': 0.1, 'meta-logisticregression__C': 0.1, 'extratreesclassifier__n_estimators': 100, 'randomforestclassifier__n_estimators': 100}\n",
      "0.950 +/- 0.00 {'gradientboostingclassifier__learning_rate': 0.1, 'meta-logisticregression__C': 10.0, 'extratreesclassifier__n_estimators': 100, 'randomforestclassifier__n_estimators': 50}\n",
      "0.951 +/- 0.00 {'gradientboostingclassifier__learning_rate': 0.1, 'meta-logisticregression__C': 10.0, 'extratreesclassifier__n_estimators': 100, 'randomforestclassifier__n_estimators': 100}\n",
      "Best parameters: {'gradientboostingclassifier__learning_rate': 0.1, 'meta-logisticregression__C': 0.1, 'extratreesclassifier__n_estimators': 50, 'randomforestclassifier__n_estimators': 100}\n",
      "Accuracy: 0.95\n"
     ]
    }
   ],
   "source": [
    "from sklearn.linear_model import LogisticRegression\n",
    "from sklearn.ensemble import RandomForestClassifier\n",
    "from sklearn.ensemble import GradientBoostingClassifier\n",
    "from sklearn.ensemble import AdaBoostClassifier\n",
    "from sklearn.ensemble import ExtraTreesClassifier\n",
    "from sklearn.model_selection import GridSearchCV\n",
    "from mlxtend.classifier import StackingClassifier\n",
    "\n",
    "# Initializing models\n",
    "\n",
    "clf1 = RandomForestClassifier(random_state=1)\n",
    "clf2 = GradientBoostingClassifier(random_state=1, )\n",
    "clf3 = AdaBoostClassifier(random_state=1)\n",
    "clf4 = ExtraTreesClassifier(random_state=1)\n",
    "lr = LogisticRegression()\n",
    "sclf = StackingClassifier(classifiers=[clf1, clf2, clf3, clf4], \n",
    "                          meta_classifier=lr)\n",
    "\n",
    "params = {'randomforestclassifier__n_estimators': [50, 100],\n",
    "          'extratreesclassifier__n_estimators': [50, 100],\n",
    "          'gradientboostingclassifier__learning_rate': [0.01, 0.1],\n",
    "          'meta-logisticregression__C': [0.1, 10.0]}\n",
    "\n",
    "grid = GridSearchCV(estimator=sclf, \n",
    "                    param_grid=params, \n",
    "                    cv=5,\n",
    "                    refit=True)\n",
    "grid.fit(X_train, y_train)\n",
    "\n",
    "cv_keys = ('mean_test_score', 'std_test_score', 'params')\n",
    "\n",
    "for r, _ in enumerate(grid.cv_results_['mean_test_score']):\n",
    "    print(\"%0.3f +/- %0.2f %r\"\n",
    "          % (grid.cv_results_[cv_keys[0]][r],\n",
    "             grid.cv_results_[cv_keys[1]][r] / 2.0,\n",
    "             grid.cv_results_[cv_keys[2]][r]))\n",
    "\n",
    "print('Best parameters: %s' % grid.best_params_)\n",
    "print('Accuracy: %.2f' % grid.best_score_)"
   ]
  },
  {
   "cell_type": "code",
   "execution_count": 17,
   "metadata": {},
   "outputs": [
    {
     "data": {
      "text/plain": [
       "0.95800144822592326"
      ]
     },
     "execution_count": 17,
     "metadata": {},
     "output_type": "execute_result"
    }
   ],
   "source": [
    "from sklearn.metrics import accuracy_score\n",
    "accuracy_score(y_test, grid.predict(X_test))"
   ]
  },
  {
   "cell_type": "code",
   "execution_count": null,
   "metadata": {
    "collapsed": true
   },
   "outputs": [],
   "source": []
  }
 ],
 "metadata": {
  "kernelspec": {
   "display_name": "Python 3",
   "language": "python",
   "name": "python3"
  },
  "language_info": {
   "codemirror_mode": {
    "name": "ipython",
    "version": 3
   },
   "file_extension": ".py",
   "mimetype": "text/x-python",
   "name": "python",
   "nbconvert_exporter": "python",
   "pygments_lexer": "ipython3",
   "version": "3.7.4"
  }
 },
 "nbformat": 4,
 "nbformat_minor": 2
}
