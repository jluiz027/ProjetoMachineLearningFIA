{
 "cells": [
  {
   "cell_type": "markdown",
   "metadata": {},
   "source": [
    "# Exercícios\n",
    "\n"
   ]
  },
  {
   "cell_type": "markdown",
   "metadata": {},
   "source": [
    "**```1 - Crie um programa que irá perguntar ao usuário para digitar o nome e a idade. Imprima uma mensagem que diga qual é o ano em que ele irá fazer 100 anos.```**"
   ]
  },
  {
   "cell_type": "code",
   "execution_count": null,
   "metadata": {},
   "outputs": [],
   "source": []
  },
  {
   "cell_type": "code",
   "execution_count": null,
   "metadata": {},
   "outputs": [],
   "source": []
  },
  {
   "cell_type": "markdown",
   "metadata": {},
   "source": [
    "**```2 - Modifique o programa anterior e pergunte quantas vezes o usuário deseja imprimir a mensagem.```**"
   ]
  },
  {
   "cell_type": "code",
   "execution_count": null,
   "metadata": {},
   "outputs": [],
   "source": []
  },
  {
   "cell_type": "code",
   "execution_count": null,
   "metadata": {},
   "outputs": [],
   "source": []
  },
  {
   "cell_type": "markdown",
   "metadata": {},
   "source": [
    "**```3 - Pergunte ao usuário para digitar um número. Verifique se o número digitado é par ou impar. Imprima a mensagem apropriada para cada caso.```**"
   ]
  },
  {
   "cell_type": "code",
   "execution_count": null,
   "metadata": {},
   "outputs": [],
   "source": []
  },
  {
   "cell_type": "code",
   "execution_count": null,
   "metadata": {},
   "outputs": [],
   "source": []
  },
  {
   "cell_type": "markdown",
   "metadata": {},
   "source": [
    "**```4 - Utilize a lista lst = [1, 1, 2, 3, 5, 8, 13, 21, 34, 55, 89].```**\n",
    "\n",
    "    a) Escreva um programa que irá imprimir todos os elementos menor ou igual a 5.\n",
    "    b) Ao invés de imprimir os elementos um a um, faça uma nova lista que tenha todos os elementos que são menor ou igual a 5. Imprima essa lista.\n",
    "    c) Peça ao usuário para digitar um número e imprima todos os números menores que os elementos da lista l.\n"
   ]
  },
  {
   "cell_type": "code",
   "execution_count": 1,
   "metadata": {},
   "outputs": [],
   "source": [
    "lst = [1, 1, 2, 3, 5, 8, 13, 21, 34, 55, 89]"
   ]
  },
  {
   "cell_type": "code",
   "execution_count": 2,
   "metadata": {},
   "outputs": [
    {
     "name": "stdout",
     "output_type": "stream",
     "text": [
      "1\n",
      "1\n",
      "2\n",
      "3\n",
      "5\n"
     ]
    }
   ],
   "source": [
    "# a)\n",
    "for item in lst:\n",
    "    if(item <=5):\n",
    "        print(item)"
   ]
  },
  {
   "cell_type": "code",
   "execution_count": 3,
   "metadata": {},
   "outputs": [
    {
     "name": "stdout",
     "output_type": "stream",
     "text": [
      "[1, 1, 2, 3, 5]\n"
     ]
    }
   ],
   "source": [
    "# b)\n",
    "aux = []\n",
    "for item in lst:\n",
    "    if(item <=5):\n",
    "        aux.append(item)\n",
    "print(aux)"
   ]
  },
  {
   "cell_type": "code",
   "execution_count": 9,
   "metadata": {},
   "outputs": [
    {
     "name": "stdout",
     "output_type": "stream",
     "text": [
      "25\n",
      "1 1 2 3 5 8 13 21 "
     ]
    }
   ],
   "source": [
    "# c)\n",
    "numero = int(input())\n",
    "for item in lst:\n",
    "    if(item <=numero):\n",
    "        print(item, end=' ')\n"
   ]
  },
  {
   "cell_type": "code",
   "execution_count": null,
   "metadata": {},
   "outputs": [],
   "source": []
  },
  {
   "cell_type": "markdown",
   "metadata": {},
   "source": [
    "**```5 - Utilize as duas listas abaixo:```**\n",
    "```\n",
    "    l1 = [1, 1, 2, 3, 5, 8, 13, 21, 34, 55, 89]\n",
    "    l2 = [1, 2, 3, 4, 5, 6, 7, 8, 9, 10, 11, 12, 13]\n",
    "```\n",
    "    Escreva um programa que irá retornar uma lista que contém apenas os elementos que são comuns entre as listas (sem duplica-los). \n",
    "    \n",
    "    Tenha certeza que seu programa funcione com duas listas de tamanhos diferentes."
   ]
  },
  {
   "cell_type": "code",
   "execution_count": 12,
   "metadata": {},
   "outputs": [],
   "source": [
    "l1 = [1, 1, 2, 3, 5, 8, 13, 21, 34, 55, 89]\n",
    "l2 = [1, 2, 3, 4, 5, 6, 7, 8, 9, 10, 11, 12, 13]"
   ]
  },
  {
   "cell_type": "code",
   "execution_count": 17,
   "metadata": {},
   "outputs": [
    {
     "name": "stdout",
     "output_type": "stream",
     "text": [
      "[1, 2, 3, 5, 8, 13]\n"
     ]
    }
   ],
   "source": [
    "interseccao = []\n",
    "for item in l1:\n",
    "    if item in l2 and item not in interseccao:\n",
    "        interseccao.append(item)\n",
    "print(interseccao)"
   ]
  },
  {
   "cell_type": "markdown",
   "metadata": {},
   "source": [
    "**```6 - Peça ao usuário para digitar uma frase. Escreva um programa para verificar a quantidade de letras maiúsculas e minúsculas da frase digitada pelo usuário. Utilize dicionários para salvar a quantidade de cada uma```**\n",
    "\n",
    "    OBS: Utilize as funções isupper() islower() disponíveis em strings."
   ]
  },
  {
   "cell_type": "code",
   "execution_count": null,
   "metadata": {},
   "outputs": [],
   "source": []
  },
  {
   "cell_type": "code",
   "execution_count": null,
   "metadata": {},
   "outputs": [],
   "source": []
  },
  {
   "cell_type": "markdown",
   "metadata": {},
   "source": [
    "**```7 - Escreva uma função chamada carregar_arquivo, que lê o conteúdo do arquivo dados.txt. Esse arquivo contém uma palavra em cada linha. Para cada linha lida, deve-se adicionar a palavra em uma lista. Ao final do código deve-se retornar a lista criada contendo todas as palavras. Lembre-se de remover o \\n.```**\n",
    "\n",
    "    def carregar_arquivo():\n",
    "    "
   ]
  },
  {
   "cell_type": "code",
   "execution_count": 18,
   "metadata": {},
   "outputs": [],
   "source": [
    "def carregar_arquivo(nome_arquivo):\n",
    "    arquivo = open(nome_arquivo, mode='r')\n",
    "    dados = arquivo.read()\n",
    "    arquivo.close()\n",
    "    return dados.split('\\n')"
   ]
  },
  {
   "cell_type": "code",
   "execution_count": 19,
   "metadata": {},
   "outputs": [],
   "source": [
    "dados = carregar_arquivo('dados.txt')"
   ]
  },
  {
   "cell_type": "code",
   "execution_count": 20,
   "metadata": {},
   "outputs": [
    {
     "name": "stdout",
     "output_type": "stream",
     "text": [
      "['carro', 'navio', 'nuvem', 'big data', 'dinheiro', 'python', 'fia', 'programas', 'codigos', 'big data', 'dinheiro', 'programas', 'codigos', 'big data', 'dinheiro', 'programas', 'codigos', 'big data', 'dinheiro', 'programas', 'codigos', 'big data', 'dinheiro', 'programas', 'codigos', 'big data', 'dinheiro', 'python', 'fia', 'programas', 'codigos', 'big data', 'dinheiro', 'python', 'fia', 'programas', 'codigos', 'big data', 'dinheiro', 'python', 'fia', 'programas', 'codigos', 'big data', 'dinheiro', 'python', 'fia', 'programas', 'codigos', 'big data', 'dinheiro', 'fia', 'programas', 'codigos', 'big data', 'dinheiro', 'fia', 'programas', 'codigos', 'big data', 'dinheiro', 'fia', 'programas', 'codigos', 'big data', 'dinheiro', 'fia', 'programas', 'codigos', 'big data', 'dinheiro', 'python', 'fia', 'programas', 'codigos', 'dinheiro', 'python', 'fia', 'programas', 'codigos', 'dinheiro', 'python', 'fia', 'programas', 'codigos', 'dinheiro', 'python', 'fia', 'programas', 'codigos', 'dinheiro', 'python', 'fia', 'programas', 'codigos', 'dinheiro', 'python', 'fia', 'programas', 'codigos', 'fia', 'programas', 'codigos', 'big data', 'dinheiro', 'python', 'fia', 'programas', 'codigos', 'dinheiro', 'python', 'fia', 'programas', 'codigos', 'dinheiro', 'python', 'fia', 'programas', 'codigos', 'big data', 'dinheiro', 'python', 'fia', 'programas', 'codigos', 'dinheiro', 'python', 'fia', 'programas', 'codigos', 'dinheiro', 'python', 'carro', 'navio', 'nuvem', 'big data', 'dinheiro', 'python', 'fia', 'programas', 'codigos', 'big data', 'carro', 'navio', 'nuvem', 'big data', 'dinheiro', 'python', 'fia', 'programas', 'codigos', 'big data', 'fia', 'programas', 'codigos', 'dinheiro', 'python', 'fia', 'programas', 'codigos', 'dinheiro', 'python', 'carro', 'navio', 'nuvem', 'big data', 'dinheiro', 'python', 'fia', 'programas', 'codigos', 'big data', 'carro', 'navio', 'nuvem', 'big data', 'dinheiro', 'programas', 'codigos', 'dinheiro', 'python', 'fia', 'programas', 'codigos', 'dinheiro', 'python', 'fia', 'programas', 'codigos', 'dinheiro', 'python', 'fia', 'programas', 'codigos', 'dinheiro', 'python', 'fia', 'fia', 'programas', 'codigos']\n"
     ]
    }
   ],
   "source": [
    "print(dados)"
   ]
  },
  {
   "cell_type": "markdown",
   "metadata": {},
   "source": [
    "**```8 - Crie uma função chamada remover_repetidos. Essa função deve receber uma lista como parâmetro. Deve-se remover todos as palavras repetidas. Utilize uma lista auxiliar para facilitar. Ao final retorne a lista.```**\n",
    "    \n",
    "    def remover_repetidos(dados):\n"
   ]
  },
  {
   "cell_type": "code",
   "execution_count": 25,
   "metadata": {},
   "outputs": [],
   "source": [
    "def remover_repetidos(dados):\n",
    "    aux =[]\n",
    "    for palavra in dados:\n",
    "        if palavra not in aux:\n",
    "            aux.append(palavra)\n",
    "    return aux"
   ]
  },
  {
   "cell_type": "markdown",
   "metadata": {},
   "source": [
    "A função anterior poderia ser reescrita utilizando o set."
   ]
  },
  {
   "cell_type": "code",
   "execution_count": null,
   "metadata": {
    "collapsed": true
   },
   "outputs": [],
   "source": [
    "def remover_repetidos(dados):\n",
    "    return list(set(dados))"
   ]
  },
  {
   "cell_type": "code",
   "execution_count": 26,
   "metadata": {},
   "outputs": [
    {
     "data": {
      "text/plain": [
       "['carro',\n",
       " 'navio',\n",
       " 'nuvem',\n",
       " 'big data',\n",
       " 'dinheiro',\n",
       " 'python',\n",
       " 'fia',\n",
       " 'programas',\n",
       " 'codigos']"
      ]
     },
     "execution_count": 26,
     "metadata": {},
     "output_type": "execute_result"
    }
   ],
   "source": [
    "remover_repetidos(dados)"
   ]
  },
  {
   "cell_type": "markdown",
   "metadata": {},
   "source": [
    "**```9 - Agora, crie uma função chamada verificar_repetidos. Essa função irá receber duas lista como parâmetro. Uma com todas as palavras lidas do arquivo e outra sem as palavras repetidas. Verifique a quantidade de vezes que as palavras aparecem. Ao final imprima a lista de palavras e a quantidade de vezes de cada palavra.```**\n",
    "\n",
    "    def verificar_repetidos(dados, dados_unicos):\n",
    "\n",
    "Exemplo de saída:\n",
    "\n",
    "    carro – 10\n",
    "    fia - 8\n",
    "    big data - 5"
   ]
  },
  {
   "cell_type": "code",
   "execution_count": null,
   "metadata": {
    "collapsed": true
   },
   "outputs": [],
   "source": []
  },
  {
   "cell_type": "code",
   "execution_count": null,
   "metadata": {},
   "outputs": [],
   "source": []
  },
  {
   "cell_type": "markdown",
   "metadata": {},
   "source": [
    "## Referências\n",
    "\n",
    "* http://www.practicepython.org/\n",
    "* https://github.com/zhiwehu/Python-programming-exercises/\n",
    "* http://introtopython.org/\n"
   ]
  },
  {
   "cell_type": "code",
   "execution_count": null,
   "metadata": {
    "collapsed": true
   },
   "outputs": [],
   "source": []
  }
 ],
 "metadata": {
  "kernelspec": {
   "display_name": "Python 3",
   "language": "python",
   "name": "python3"
  },
  "language_info": {
   "codemirror_mode": {
    "name": "ipython",
    "version": 3
   },
   "file_extension": ".py",
   "mimetype": "text/x-python",
   "name": "python",
   "nbconvert_exporter": "python",
   "pygments_lexer": "ipython3",
   "version": "3.6.3"
  }
 },
 "nbformat": 4,
 "nbformat_minor": 1
}
