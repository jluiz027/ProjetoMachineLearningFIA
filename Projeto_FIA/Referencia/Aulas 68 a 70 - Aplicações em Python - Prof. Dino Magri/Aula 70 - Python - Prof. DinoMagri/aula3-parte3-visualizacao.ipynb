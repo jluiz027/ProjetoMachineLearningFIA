{
 "cells": [
  {
   "cell_type": "markdown",
   "metadata": {},
   "source": [
    "## Aula 3 - Visualização\n",
    "\n",
    "Conhecendo os conjuntos de dados para realizar a análise exploratória.\n",
    "\n",
    "Alguns gráficos que facilitam o entendimento das variáveis são:\n",
    "\n",
    "- Histograma (Distribuição)\n",
    "- Diagrama de dispersão (Relação entre as variáveis)\n",
    "- Box-plot  (Diferenças entre grupos)\n",
    "- Gráficos de linhas\n",
    "- Gráfico de simetria"
   ]
  },
  {
   "cell_type": "code",
   "execution_count": null,
   "metadata": {
    "collapsed": true
   },
   "outputs": [],
   "source": [
    "import pandas as pd"
   ]
  },
  {
   "cell_type": "code",
   "execution_count": null,
   "metadata": {
    "collapsed": true
   },
   "outputs": [],
   "source": [
    "df = pd.read_csv('preco_casas_final.csv', sep=';', encoding='utf-8')"
   ]
  },
  {
   "cell_type": "code",
   "execution_count": null,
   "metadata": {
    "collapsed": true
   },
   "outputs": [],
   "source": [
    "df.head(3)"
   ]
  },
  {
   "cell_type": "code",
   "execution_count": null,
   "metadata": {
    "collapsed": true
   },
   "outputs": [],
   "source": [
    "len(df)"
   ]
  },
  {
   "cell_type": "markdown",
   "metadata": {},
   "source": [
    "O Pandas permite plotar gráficos utilizando um DataFrame ou Series. Isso só é possível pois ele utilizar a biblioteca ```matplotlib```."
   ]
  },
  {
   "cell_type": "code",
   "execution_count": null,
   "metadata": {
    "collapsed": true
   },
   "outputs": [],
   "source": [
    "%matplotlib notebook\n",
    "df.preco.plot()"
   ]
  },
  {
   "cell_type": "code",
   "execution_count": null,
   "metadata": {
    "collapsed": true
   },
   "outputs": [],
   "source": [
    "%matplotlib inline\n",
    "df.preco.plot()"
   ]
  },
  {
   "cell_type": "markdown",
   "metadata": {},
   "source": [
    "O gráfico está indexado pelo quantidade de linhas (X) dos Dataframe. Note que apenas a coluna preço foi definida, pois utilizamos ela para realizar a plotagem.\n",
    "\n",
    "Nesse gráfico podemos tirar alguns **Insights**, o primeiro deles é que a maioria dos imóveis ficam na faixa de 600 a 700 mil reais."
   ]
  },
  {
   "cell_type": "markdown",
   "metadata": {},
   "source": [
    "Agora que sabemos o básico de como criar os gráficos iremos focar:\n",
    "\n",
    "- Histograma (Distribuição)\n",
    "- Diagrama de dispersão (Relação entre as variáveis)\n",
    "- Box-plot  (Diferenças entre grupos)\n",
    "- Gráficos de linhas\n",
    "- Gráfico de simetria\n",
    "\n",
    "### Histograma"
   ]
  },
  {
   "cell_type": "code",
   "execution_count": null,
   "metadata": {
    "collapsed": true
   },
   "outputs": [],
   "source": [
    "%matplotlib notebook\n",
    "# Para ter uma controle maior sobre o objeto de plotagem podemos importar o módulo\n",
    "# de plotagem para adicionar novos elementos.\n",
    "import matplotlib.pyplot as plt\n",
    "\n",
    "df.preco.hist(bins=10, \n",
    "              color='red', \n",
    "              alpha=0.7, \n",
    "              grid=False,\n",
    "              edgecolor='white', \n",
    "              linewidth=1)\n",
    "plt.title('Histograma de Preço' )\n",
    "plt.xlabel('Bins')\n",
    "plt.ylabel('Quantidade')"
   ]
  },
  {
   "cell_type": "markdown",
   "metadata": {},
   "source": [
    "Também podemos criar o histograma com várias colunas:"
   ]
  },
  {
   "cell_type": "code",
   "execution_count": null,
   "metadata": {
    "collapsed": true
   },
   "outputs": [],
   "source": [
    "%matplotlib notebook\n",
    "\n",
    "df[['qtde_quartos', 'qtde_banheiros']].hist(bins=5, alpha=0.5, \n",
    "                                            color='green',\n",
    "                                            grid=False,\n",
    "                                            edgecolor='white', \n",
    "                                            linewidth=1)"
   ]
  },
  {
   "cell_type": "markdown",
   "metadata": {},
   "source": [
    "**[Responda]** Quais insights podemos tirar desse gráfico?\n",
    "\n",
    "```Clique aqui duas vezes para adicionar sua resposta```:"
   ]
  },
  {
   "cell_type": "markdown",
   "metadata": {},
   "source": [
    "### Diagrama de dispersão\n",
    "\n",
    "Podemos utilizar o diagrama de dispersão para visualizar a relação entre as variáveis"
   ]
  },
  {
   "cell_type": "code",
   "execution_count": null,
   "metadata": {
    "collapsed": true
   },
   "outputs": [],
   "source": [
    "%matplotlib notebook\n",
    "\n",
    "df.plot(x='qtde_quartos', y='preco', \n",
    "        kind='scatter', \n",
    "        title='Quantidade de Quartos x Preço', \n",
    "        color='green')"
   ]
  },
  {
   "cell_type": "markdown",
   "metadata": {},
   "source": [
    "**[Responda]** Quais insights podemos tirar desse gráfico?\n",
    "\n",
    "```Clique aqui duas vezes para adicionar sua resposta```: "
   ]
  },
  {
   "cell_type": "markdown",
   "metadata": {},
   "source": [
    "Podemos verificar essa distribuição para todas as colunas numéricas para isso, podemos:"
   ]
  },
  {
   "cell_type": "code",
   "execution_count": null,
   "metadata": {
    "collapsed": true
   },
   "outputs": [],
   "source": [
    "%matplotlib notebook\n",
    "\n",
    "for col in df.describe().columns:\n",
    "    if col != 'preco':\n",
    "        df.plot(x=col, y='preco', \n",
    "        kind='scatter', \n",
    "        title='{} x preço'.format(col), \n",
    "        color='green')"
   ]
  },
  {
   "cell_type": "markdown",
   "metadata": {},
   "source": [
    "Para facilitar a visualização, podemos utilizar a biblioteca Seaborn para facilitar a criação da varificação por pares das variáveis."
   ]
  },
  {
   "cell_type": "code",
   "execution_count": null,
   "metadata": {
    "collapsed": true
   },
   "outputs": [],
   "source": [
    "!pip install seaborn"
   ]
  },
  {
   "cell_type": "code",
   "execution_count": null,
   "metadata": {
    "collapsed": true
   },
   "outputs": [],
   "source": [
    "import seaborn as sns"
   ]
  },
  {
   "cell_type": "code",
   "execution_count": null,
   "metadata": {
    "collapsed": true
   },
   "outputs": [],
   "source": [
    "%matplotlib inline\n",
    "sns.pairplot(df)"
   ]
  },
  {
   "cell_type": "markdown",
   "metadata": {},
   "source": [
    "### Box-Plot"
   ]
  },
  {
   "cell_type": "code",
   "execution_count": null,
   "metadata": {
    "collapsed": true
   },
   "outputs": [],
   "source": [
    "%matplotlib notebook\n",
    "df.boxplot(column='qtde_banheiros')"
   ]
  },
  {
   "cell_type": "markdown",
   "metadata": {},
   "source": [
    "Esse gráfico mostra várias informações relevantes, como: o valor médio dos dados, o valor máximo e mínimo do conjunto de dados e também os **outliers**.\n",
    "\n",
    "Como podemos visualizar que existe um ponto que se distancia bastante, esse valor é considerado um **outlier**.\n",
    "\n",
    "Podemos plotar um gráfico do tipo BoxPlot de uma coluna agrupado por outra coluna:"
   ]
  },
  {
   "cell_type": "code",
   "execution_count": null,
   "metadata": {
    "collapsed": true
   },
   "outputs": [],
   "source": [
    "%matplotlib notebook\n",
    "\n",
    "df.boxplot(column='preco', by='qtde_quartos')"
   ]
  },
  {
   "cell_type": "markdown",
   "metadata": {},
   "source": [
    "Esse gráfico permite visualizar os imóveis pela quantidade de quartos e seus respectivos preços."
   ]
  },
  {
   "cell_type": "markdown",
   "metadata": {},
   "source": [
    "### Correlação de Variáveis\n",
    "\n",
    "É importante verificar se existe alguma correlação entre o número de quartos do imóvel e o seu preço?\n",
    "\n",
    "Ou, o número de banheiros com o preço?\n",
    "\n",
    "Para isso, podemos utilizar o método do pandas chamado corr() para que seja possível calcular a correlação entre todas as colunas do conjunto de dados."
   ]
  },
  {
   "cell_type": "code",
   "execution_count": null,
   "metadata": {
    "collapsed": true
   },
   "outputs": [],
   "source": [
    "df.corr()"
   ]
  },
  {
   "cell_type": "markdown",
   "metadata": {},
   "source": [
    "A correlação utilizada por padrão é a de Pearson.\n",
    "\n",
    "Este coeficiente assume valores entre -1 e 1, onde um valor 1 significa uma correlação positiva perfeita entre as variáveis e um valor -1 uma correlação negativa perfeita entre as variáveis.\n",
    "\n",
    "O valor 0 significa que não há uma correlação entre as variáveis.\n",
    "\n",
    "Também é possível utilizar a correlação de **Spearman** que utilizar a correlação **não linear** entre as variáveis."
   ]
  },
  {
   "cell_type": "code",
   "execution_count": null,
   "metadata": {
    "collapsed": true
   },
   "outputs": [],
   "source": [
    "df.corr('spearman')"
   ]
  },
  {
   "cell_type": "markdown",
   "metadata": {},
   "source": [
    "Para facilitar o entendimento, iremos selecionar algumas variáveis:"
   ]
  },
  {
   "cell_type": "code",
   "execution_count": null,
   "metadata": {
    "collapsed": true
   },
   "outputs": [],
   "source": [
    "df.columns"
   ]
  },
  {
   "cell_type": "code",
   "execution_count": null,
   "metadata": {
    "collapsed": true
   },
   "outputs": [],
   "source": [
    "df[['forma_terreno', \n",
    "    'ano_construcao',\n",
    "    'ano_venda',\n",
    "    'qtde_banheiros', \n",
    "    'qualidade_cozinha', \n",
    "    'qtde_quartos', \n",
    "    'tam_garagem', \n",
    "    'tam_sala_estar', \n",
    "    'qualidade_aquecedor', \n",
    "    'preco']].corr()"
   ]
  },
  {
   "cell_type": "markdown",
   "metadata": {},
   "source": [
    "Podemos visualizar que a variável ano_venda teve uma baixa correlação com o preço, ao contrário do tam_sala_estar."
   ]
  },
  {
   "cell_type": "code",
   "execution_count": null,
   "metadata": {
    "collapsed": true
   },
   "outputs": [],
   "source": [
    "%matplotlib inline\n",
    "df[['forma_terreno', \n",
    "    'ano_construcao',\n",
    "    'ano_venda',\n",
    "    'qtde_banheiros', \n",
    "    'qualidade_cozinha', \n",
    "    'qtde_quartos', \n",
    "    'tam_garagem', \n",
    "    'tam_sala_estar', \n",
    "    'qualidade_aquecedor', \n",
    "    'preco']].corr().plot(rot=90)"
   ]
  },
  {
   "cell_type": "markdown",
   "metadata": {},
   "source": [
    "### Tabulação Cruzada (crosstab)\n",
    "\n",
    "Podemos utilizar essa funcionalidade para cruzar os valores das variáveis."
   ]
  },
  {
   "cell_type": "code",
   "execution_count": null,
   "metadata": {
    "collapsed": true
   },
   "outputs": [],
   "source": [
    "pd.crosstab(df.qtde_quartos, df.condicao)"
   ]
  },
  {
   "cell_type": "markdown",
   "metadata": {},
   "source": [
    "Analisando a tabela acima vemos que o **maior** número de imoveis na condição 5 são os imóveis com 3 quartos (462).\n",
    "\n",
    "Também podemos visualizar esses dados em um gráfico de barras."
   ]
  },
  {
   "cell_type": "code",
   "execution_count": null,
   "metadata": {
    "collapsed": true
   },
   "outputs": [],
   "source": [
    "tabela = pd.crosstab(df.qtde_quartos, df.condicao)"
   ]
  },
  {
   "cell_type": "code",
   "execution_count": null,
   "metadata": {
    "collapsed": true
   },
   "outputs": [],
   "source": [
    "%matplotlib notebook\n",
    "tabela.plot(kind='bar', width=1.0)"
   ]
  },
  {
   "cell_type": "code",
   "execution_count": null,
   "metadata": {
    "collapsed": true
   },
   "outputs": [],
   "source": []
  }
 ],
 "metadata": {
  "kernelspec": {
   "display_name": "Python 3",
   "language": "python",
   "name": "python3"
  },
  "language_info": {
   "codemirror_mode": {
    "name": "ipython",
    "version": 3
   },
   "file_extension": ".py",
   "mimetype": "text/x-python",
   "name": "python",
   "nbconvert_exporter": "python",
   "pygments_lexer": "ipython3",
   "version": "3.7.2"
  }
 },
 "nbformat": 4,
 "nbformat_minor": 2
}
