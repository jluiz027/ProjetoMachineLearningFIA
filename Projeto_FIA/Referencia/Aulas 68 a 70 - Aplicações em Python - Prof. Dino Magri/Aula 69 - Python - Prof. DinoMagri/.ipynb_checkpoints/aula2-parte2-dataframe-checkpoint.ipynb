{
 "cells": [
  {
   "cell_type": "markdown",
   "metadata": {},
   "source": [
    "# DataFrame\n",
    "\n",
    "Como vimos DataFrame é um array 2D com rótulos.\n",
    "\n",
    "Os tipos das colunas podem ser heterogêneas (de diversos tipos). Ele tem as seguintes propriedades:\n",
    "\n",
    "* Conceitualmente é semelhante a uma tabela ou planilha de dados.\n",
    "* Colunas podem ser de diferentes tipos: float64, int, bool.\n",
    "* Uma coluna do DataFrame é uma Series.\n",
    "* Podemos pensar que é um dicionário de Series, onde as colunas e linhas são indexadas, denota ```index``` no caso da linhas e ```columns``` no caso de colunas.\n",
    "* Seu tamanho é mutável: colunas podem ser inseridas e deletadas.\n",
    "    \n",
    "Cada eixo do DataFrame tem um índice, seja o padrão ou não. Os índices são necessários para acesso rápido aos dados, bem como para realizar as operações disponíveis."
   ]
  },
  {
   "cell_type": "code",
   "execution_count": null,
   "metadata": {
    "collapsed": true
   },
   "outputs": [],
   "source": [
    "import pandas as pd\n",
    "import numpy as np"
   ]
  },
  {
   "cell_type": "markdown",
   "metadata": {},
   "source": [
    "## Criação do DataFrame\n",
    "\n",
    "O DataFrame é a estrutura de dados comumente utilizada no pandas. O construtor aceita diferentes tipos de argumentos:\n",
    "\n",
    "* Dicionário de ndarrays de 1D, listas, dicionários, ou Series.\n",
    "* Array 2D do NumPy\n",
    "* Estruturado\n",
    "* Series\n",
    "* Outra estrutura DataFrame.\n",
    "    \n",
    "Podemos definir os índices das linhas e das colunas. Se eles não foram específicados, eles serão gerados a partir dos dados de entrada de maneira intuitiva. Por exemplo, as chaves do dicionário serão os rótulos das colunas.\n",
    "\n",
    "### Utilizando dicionários de Series\n",
    "\n",
    "Vamos criar um DataFrame utilizando um dicionário de Series e listas dentro de um dicionário."
   ]
  },
  {
   "cell_type": "code",
   "execution_count": null,
   "metadata": {
    "collapsed": true
   },
   "outputs": [],
   "source": [
    "resumoAcoes = {\n",
    "    'GOOG' : pd.Series([740, 750], index=['Abertura', 'Fechamento']),\n",
    "    'FB' : [110, 120],\n",
    "    'TWTR' : [20, 30],\n",
    "    'AMZN' : [740, 750],\n",
    "    'AAPL' : [100, 90],\n",
    "    'NFLX' : [70, 80]\n",
    "}"
   ]
  },
  {
   "cell_type": "code",
   "execution_count": null,
   "metadata": {},
   "outputs": [],
   "source": [
    "acoesDF = pd.DataFrame(resumoAcoes)\n",
    "print(acoesDF)"
   ]
  },
  {
   "cell_type": "code",
   "execution_count": null,
   "metadata": {},
   "outputs": [],
   "source": [
    "acoesDF = pd.DataFrame(resumoAcoes, columns=['GOOG', 'FB', 'AMZN', 'NFLX'])\n",
    "print(acoesDF)"
   ]
  },
  {
   "cell_type": "code",
   "execution_count": null,
   "metadata": {},
   "outputs": [],
   "source": [
    "acoesDF.index"
   ]
  },
  {
   "cell_type": "code",
   "execution_count": null,
   "metadata": {},
   "outputs": [],
   "source": [
    "acoesDF.columns"
   ]
  },
  {
   "cell_type": "markdown",
   "metadata": {},
   "source": [
    "### Utilizando Series"
   ]
  },
  {
   "cell_type": "code",
   "execution_count": null,
   "metadata": {},
   "outputs": [],
   "source": [
    "dic_moedas = {\n",
    "    'US' : 'dolar',\n",
    "    'BR' : 'real',\n",
    "    'UK' : 'libra',\n",
    "    'JP' : 'iene'\n",
    "}\n",
    "moedas = pd.Series(dic_moedas)\n",
    "moedas"
   ]
  },
  {
   "cell_type": "code",
   "execution_count": null,
   "metadata": {
    "collapsed": true
   },
   "outputs": [],
   "source": [
    "moedas.name = 'moedas'"
   ]
  },
  {
   "cell_type": "code",
   "execution_count": null,
   "metadata": {},
   "outputs": [],
   "source": [
    "pd.DataFrame(moedas)"
   ]
  },
  {
   "cell_type": "code",
   "execution_count": null,
   "metadata": {},
   "outputs": [],
   "source": [
    "valor = {\n",
    "    'US' : 1.,\n",
    "    'BR' : 4.16,\n",
    "    'UK' : 0.78,\n",
    "    'JP' : 111.12\n",
    "}\n",
    "cotacao = pd.Series(valor)\n",
    "cotacao"
   ]
  },
  {
   "cell_type": "code",
   "execution_count": null,
   "metadata": {
    "collapsed": true
   },
   "outputs": [],
   "source": [
    "cotacao.name = 'cotacao'"
   ]
  },
  {
   "cell_type": "code",
   "execution_count": null,
   "metadata": {},
   "outputs": [],
   "source": [
    "moeda_cotacao = pd.DataFrame([moedas, cotacao])\n",
    "moeda_cotacao"
   ]
  },
  {
   "cell_type": "markdown",
   "metadata": {},
   "source": [
    "**Durante o curso veremos outras formas de criar um DataFrame.**"
   ]
  },
  {
   "cell_type": "markdown",
   "metadata": {},
   "source": [
    "## Operações do DataFrame\n",
    "\n",
    "### Seleção\n",
    "\n",
    "Uma coluna específica pode ser obtida como uma Series."
   ]
  },
  {
   "cell_type": "code",
   "execution_count": null,
   "metadata": {},
   "outputs": [],
   "source": [
    "print(moeda_cotacao['BR'])"
   ]
  },
  {
   "cell_type": "code",
   "execution_count": null,
   "metadata": {},
   "outputs": [],
   "source": [
    "print(moeda_cotacao[['BR', 'US']])"
   ]
  },
  {
   "cell_type": "markdown",
   "metadata": {},
   "source": [
    "### Atribuição\n",
    "\n",
    "Uma coluna pode ser adicionada via atribuição"
   ]
  },
  {
   "cell_type": "code",
   "execution_count": null,
   "metadata": {
    "collapsed": true
   },
   "outputs": [],
   "source": [
    "moeda_cotacao['MXN'] = 192270"
   ]
  },
  {
   "cell_type": "code",
   "execution_count": null,
   "metadata": {},
   "outputs": [],
   "source": [
    "moeda_cotacao"
   ]
  },
  {
   "cell_type": "code",
   "execution_count": null,
   "metadata": {
    "collapsed": true
   },
   "outputs": [],
   "source": [
    "moeda_cotacao.loc['moedas', 'MXN'] = 'peso'\n",
    "moeda_cotacao.loc['moedas']['MXN'] = 'peso'"
   ]
  },
  {
   "cell_type": "code",
   "execution_count": null,
   "metadata": {},
   "outputs": [],
   "source": [
    "moeda_cotacao"
   ]
  },
  {
   "cell_type": "markdown",
   "metadata": {},
   "source": [
    "### Remoção\n",
    "\n",
    "Uma coluna pode ser deletada utilizando o nome (rótudo) e a função ```del``` conforme visto em dicionários."
   ]
  },
  {
   "cell_type": "code",
   "execution_count": null,
   "metadata": {
    "collapsed": true
   },
   "outputs": [],
   "source": [
    "del moeda_cotacao['MXN']"
   ]
  },
  {
   "cell_type": "code",
   "execution_count": null,
   "metadata": {},
   "outputs": [],
   "source": [
    "moeda_cotacao"
   ]
  },
  {
   "cell_type": "markdown",
   "metadata": {},
   "source": [
    "Existem outras formas de remover elementos de um DataFrame. \n",
    "\n",
    "É possível utilizar o comando **```pop```**."
   ]
  },
  {
   "cell_type": "code",
   "execution_count": null,
   "metadata": {},
   "outputs": [],
   "source": [
    "uk = moeda_cotacao.pop('UK')\n",
    "print(uk)"
   ]
  },
  {
   "cell_type": "code",
   "execution_count": null,
   "metadata": {},
   "outputs": [],
   "source": [
    "moeda_cotacao"
   ]
  },
  {
   "cell_type": "markdown",
   "metadata": {},
   "source": [
    "É possível utilizar o comando **```drop```**. Esse comando permite remover colunas ou linhas.\n",
    "\n",
    "**Para remover colunas**"
   ]
  },
  {
   "cell_type": "code",
   "execution_count": null,
   "metadata": {},
   "outputs": [],
   "source": [
    "moeda_cotacao.drop(['JP', 'BR'], axis=1)"
   ]
  },
  {
   "cell_type": "markdown",
   "metadata": {},
   "source": [
    "**Para remover linhas**"
   ]
  },
  {
   "cell_type": "code",
   "execution_count": null,
   "metadata": {},
   "outputs": [],
   "source": [
    "moeda_cotacao.drop(['moedas'], axis=0)"
   ]
  },
  {
   "cell_type": "code",
   "execution_count": null,
   "metadata": {},
   "outputs": [],
   "source": [
    "moeda_cotacao.drop(['moedas', 'cotacao'])"
   ]
  },
  {
   "cell_type": "markdown",
   "metadata": {},
   "source": [
    "É importante salientar que o método drop, por padrão, não remove no próprio DataFrame, ele devolve um novo objeto DataFrame que deve ser armazenado em uma nova variável.\n",
    "\n",
    "Para contornar esse problema, podemos utilizar o parâmetro ```inplace=True```."
   ]
  },
  {
   "cell_type": "code",
   "execution_count": null,
   "metadata": {
    "collapsed": true
   },
   "outputs": [],
   "source": [
    "moeda_cotacao.drop(['JP'], axis=1, inplace=True)"
   ]
  },
  {
   "cell_type": "code",
   "execution_count": null,
   "metadata": {},
   "outputs": [],
   "source": [
    "moeda_cotacao"
   ]
  },
  {
   "cell_type": "markdown",
   "metadata": {},
   "source": [
    "### Inserção\n",
    "\n",
    "Basicamente, um DataFrame pode ser tratado como se fosse um dicionário de Series. Colunas são inseridas no final. Para inserir uma coluna em um local específico podemos utilizar a função ```insert```."
   ]
  },
  {
   "cell_type": "code",
   "execution_count": null,
   "metadata": {},
   "outputs": [],
   "source": [
    "moeda_cotacao.insert(0, 'UK', uk)\n",
    "moeda_cotacao"
   ]
  },
  {
   "cell_type": "markdown",
   "metadata": {},
   "source": [
    "### Alinhamento\n",
    "\n",
    "Voltando ao nosso exemplo inicial das ações, podemos alinhar de maneira similar a Series, exceto que eles se alinham tanto nas colunas quanto nas linhas. O objeto resultante é uma união de colunas e linhas rotuladas."
   ]
  },
  {
   "cell_type": "code",
   "execution_count": null,
   "metadata": {},
   "outputs": [],
   "source": [
    "acoesDF1 = acoesDF\n",
    "acoesDF1"
   ]
  },
  {
   "cell_type": "code",
   "execution_count": null,
   "metadata": {},
   "outputs": [],
   "source": [
    "acoesDF2 = acoesDF * 2\n",
    "acoesDF2['YHOO'] = 80\n",
    "acoesDF2"
   ]
  },
  {
   "cell_type": "code",
   "execution_count": null,
   "metadata": {},
   "outputs": [],
   "source": [
    "acoesDF1 + acoesDF2"
   ]
  },
  {
   "cell_type": "markdown",
   "metadata": {},
   "source": [
    "No caso onde não exite rótulos de linhas e colunas em comum, o valor é preenchido com ```NaN```, por exemplo, ```YHOO```.\n",
    "\n",
    "Se combinarmos o DataFrame com uma Series, o comportamento padrão é difundir a Series nas linhas. Vamos utilizar o ```acoesDF1```:"
   ]
  },
  {
   "cell_type": "code",
   "execution_count": null,
   "metadata": {},
   "outputs": [],
   "source": [
    "acoesDF1"
   ]
  },
  {
   "cell_type": "code",
   "execution_count": null,
   "metadata": {},
   "outputs": [],
   "source": [
    "# Pode ser 10 ou tem que ser uma lista com 4 elementos.\n",
    "acoesDF1 + pd.Series(10,\n",
    "                  index = ['GOOG', 'FB', 'AMZN', 'NFLX'])"
   ]
  },
  {
   "cell_type": "markdown",
   "metadata": {},
   "source": [
    "### Outras operações matemáticas\n",
    "\n",
    "Operações matemáticas pode ser aplicadas em cada elemento do DF."
   ]
  },
  {
   "cell_type": "code",
   "execution_count": null,
   "metadata": {},
   "outputs": [],
   "source": [
    "acoesDF1"
   ]
  },
  {
   "cell_type": "code",
   "execution_count": null,
   "metadata": {},
   "outputs": [],
   "source": [
    "np.sqrt(acoesDF1)"
   ]
  },
  {
   "cell_type": "code",
   "execution_count": null,
   "metadata": {},
   "outputs": [],
   "source": [
    "np.mean(acoesDF1)"
   ]
  },
  {
   "cell_type": "markdown",
   "metadata": {
    "collapsed": true
   },
   "source": [
    "## Outras operações"
   ]
  },
  {
   "cell_type": "markdown",
   "metadata": {},
   "source": [
    "Conforme vimos, o fatiamento e a indexação podem ser um pouco confuso. \n",
    "\n",
    "Por exemplo, se uma Series tem um index explicito de inteiros, uma operação como ```s1[1]``` irá utilizar o índice explicito, enquanto que uma operação de fatiamento como ```s1[1:3]``` irá utilizar o índice implicito no estilo do Python.\n",
    "\n",
    "Vamos testar!"
   ]
  },
  {
   "cell_type": "code",
   "execution_count": null,
   "metadata": {},
   "outputs": [],
   "source": [
    "s1 = pd.Series(['a', 'b', 'c'], index=[1,3,5])\n",
    "s1"
   ]
  },
  {
   "cell_type": "code",
   "execution_count": null,
   "metadata": {},
   "outputs": [],
   "source": [
    "# índice explicito quando se está indexando\n",
    "s1[1]"
   ]
  },
  {
   "cell_type": "code",
   "execution_count": null,
   "metadata": {},
   "outputs": [],
   "source": [
    "# índice implicito quando se está fatiando\n",
    "s1[1:3]"
   ]
  },
  {
   "cell_type": "markdown",
   "metadata": {},
   "source": [
    "Como podemos perceber isso pode ser um pouco confuso no caso de índices de números inteiros. \n",
    "\n",
    "Por isso, Pandas fornece alguns **indexadores especiais** que explicitamente contém esquemas de acesso aos índices. \n",
    "\n",
    "Eles não são métodos funcionais e sim atributos que expõe uma interface de fatiamento particular para o dados.\n",
    "\n",
    "Primeiro, o atributo ```loc``` permite indexar e fatiar sempre utilizando o índice explícito."
   ]
  },
  {
   "cell_type": "code",
   "execution_count": null,
   "metadata": {},
   "outputs": [],
   "source": [
    "s1"
   ]
  },
  {
   "cell_type": "code",
   "execution_count": null,
   "metadata": {},
   "outputs": [],
   "source": [
    "s1.loc[1]"
   ]
  },
  {
   "cell_type": "code",
   "execution_count": null,
   "metadata": {},
   "outputs": [],
   "source": [
    "s1.loc[1:3]"
   ]
  },
  {
   "cell_type": "markdown",
   "metadata": {},
   "source": [
    "Já o atributo ```iloc``` permite indexar e fatiar sempre utilizando o índice implicito no estilo do Python."
   ]
  },
  {
   "cell_type": "code",
   "execution_count": null,
   "metadata": {},
   "outputs": [],
   "source": [
    "s1.iloc[1]"
   ]
  },
  {
   "cell_type": "code",
   "execution_count": null,
   "metadata": {},
   "outputs": [],
   "source": [
    "s1.iloc[1:3]"
   ]
  },
  {
   "cell_type": "code",
   "execution_count": null,
   "metadata": {
    "collapsed": true
   },
   "outputs": [],
   "source": []
  }
 ],
 "metadata": {
  "kernelspec": {
   "display_name": "Python 3",
   "language": "python",
   "name": "python3"
  },
  "language_info": {
   "codemirror_mode": {
    "name": "ipython",
    "version": 3
   },
   "file_extension": ".py",
   "mimetype": "text/x-python",
   "name": "python",
   "nbconvert_exporter": "python",
   "pygments_lexer": "ipython3",
   "version": "3.6.3"
  }
 },
 "nbformat": 4,
 "nbformat_minor": 1
}
